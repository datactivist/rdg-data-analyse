{
  "cells": [
    {
      "cell_type": "markdown",
      "metadata": {
        "id": "HfukDmMiP9l0"
      },
      "source": [
        "# Import packages"
      ]
    },
    {
      "cell_type": "code",
      "execution_count": 1,
      "metadata": {
        "id": "fr3K61vND1fQ"
      },
      "outputs": [],
      "source": [
        "import pandas as pd\n"
      ]
    },
    {
      "cell_type": "code",
      "execution_count": 2,
      "metadata": {
        "id": "62XOe3vGqxKo"
      },
      "outputs": [],
      "source": [
        "import plotly.express as px"
      ]
    },
    {
      "cell_type": "code",
      "execution_count": 3,
      "metadata": {
        "id": "KMKfb6qZrZPZ"
      },
      "outputs": [],
      "source": [
        "import matplotlib.pyplot as plt"
      ]
    },
    {
      "cell_type": "code",
      "execution_count": 4,
      "metadata": {
        "id": "FP_0n7NDUQCM"
      },
      "outputs": [],
      "source": [
        "import seaborn as sns"
      ]
    },
    {
      "cell_type": "code",
      "execution_count": 5,
      "metadata": {
        "id": "9b_9UtLXFv-x"
      },
      "outputs": [],
      "source": [
        "import json"
      ]
    },
    {
      "cell_type": "markdown",
      "metadata": {
        "id": "TVxd0lCYQC36"
      },
      "source": [
        "# Upload the data into a DataFrame"
      ]
    },
    {
      "cell_type": "markdown",
      "metadata": {
        "id": "OCjZaW4NLTol"
      },
      "source": [
        "Note : les donnees utilisees datent du 18.01.2024"
      ]
    },
    {
      "cell_type": "code",
      "execution_count": 6,
      "metadata": {
        "id": "z2drfppHFejx"
      },
      "outputs": [],
      "source": [
        "with open('/content/data_search.json', 'r') as f:\n",
        "  content = json.load(f)"
      ]
    },
    {
      "cell_type": "code",
      "execution_count": 7,
      "metadata": {
        "id": "z2SjdIOhHYh2"
      },
      "outputs": [],
      "source": [
        "df = pd.DataFrame(content)"
      ]
    },
    {
      "cell_type": "markdown",
      "metadata": {
        "id": "bzproDvnQnYx"
      },
      "source": [
        "# Explorations"
      ]
    },
    {
      "cell_type": "code",
      "execution_count": 8,
      "metadata": {
        "colab": {
          "base_uri": "https://localhost:8080/"
        },
        "id": "Dlp23AYlIsN6",
        "outputId": "8544be9b-7509-4de7-f789-702d057a1a8e"
      },
      "outputs": [
        {
          "output_type": "stream",
          "name": "stdout",
          "text": [
            "<class 'pandas.core.frame.DataFrame'>\n",
            "RangeIndex: 49990 entries, 0 to 49989\n",
            "Data columns (total 41 columns):\n",
            " #   Column                   Non-Null Count  Dtype  \n",
            "---  ------                   --------------  -----  \n",
            " 0   name                     49990 non-null  object \n",
            " 1   type                     49990 non-null  object \n",
            " 2   url                      49990 non-null  object \n",
            " 3   global_id                3662 non-null   object \n",
            " 4   description              28475 non-null  object \n",
            " 5   published_at             49990 non-null  object \n",
            " 6   publisher                3662 non-null   object \n",
            " 7   citationHtml             3662 non-null   object \n",
            " 8   identifier_of_dataverse  3662 non-null   object \n",
            " 9   name_of_dataverse        3662 non-null   object \n",
            " 10  citation                 3662 non-null   object \n",
            " 11  storageIdentifier        3662 non-null   object \n",
            " 12  subjects                 3662 non-null   object \n",
            " 13  fileCount                3662 non-null   float64\n",
            " 14  versionId                3662 non-null   float64\n",
            " 15  versionState             3662 non-null   object \n",
            " 16  majorVersion             2430 non-null   float64\n",
            " 17  minorVersion             2430 non-null   float64\n",
            " 18  createdAt                3662 non-null   object \n",
            " 19  updatedAt                3662 non-null   object \n",
            " 20  contacts                 3662 non-null   object \n",
            " 21  publications             1703 non-null   object \n",
            " 22  geographicCoverage       1737 non-null   object \n",
            " 23  authors                  3662 non-null   object \n",
            " 24  file_id                  45580 non-null  object \n",
            " 25  file_type                45580 non-null  object \n",
            " 26  file_content_type        45580 non-null  object \n",
            " 27  size_in_bytes            45580 non-null  float64\n",
            " 28  md5                      45580 non-null  object \n",
            " 29  checksum                 45580 non-null  object \n",
            " 30  file_persistent_id       45577 non-null  object \n",
            " 31  dataset_name             45580 non-null  object \n",
            " 32  dataset_id               45580 non-null  object \n",
            " 33  dataset_persistent_id    45580 non-null  object \n",
            " 34  dataset_citation         45580 non-null  object \n",
            " 35  unf                      4494 non-null   object \n",
            " 36  keywords                 2622 non-null   object \n",
            " 37  producers                1804 non-null   object \n",
            " 38  dataSources              643 non-null    object \n",
            " 39  relatedMaterial          768 non-null    object \n",
            " 40  identifier               748 non-null    object \n",
            "dtypes: float64(5), object(36)\n",
            "memory usage: 15.6+ MB\n"
          ]
        }
      ],
      "source": [
        "df.info()"
      ]
    },
    {
      "cell_type": "code",
      "execution_count": 9,
      "metadata": {
        "colab": {
          "base_uri": "https://localhost:8080/"
        },
        "id": "YC_rb5DMJCB1",
        "outputId": "e3ef167d-bc81-49e6-813d-bc6a104d4773"
      },
      "outputs": [
        {
          "output_type": "execute_result",
          "data": {
            "text/plain": [
              "file         45580\n",
              "dataset       3662\n",
              "dataverse      748\n",
              "Name: type, dtype: int64"
            ]
          },
          "metadata": {},
          "execution_count": 9
        }
      ],
      "source": [
        "df['type'].value_counts()"
      ]
    },
    {
      "cell_type": "code",
      "execution_count": 10,
      "metadata": {
        "colab": {
          "base_uri": "https://localhost:8080/"
        },
        "id": "ufeyqd8rLkcp",
        "outputId": "c3a3fb61-c656-4a83-ed2e-ea48e31c7a19"
      },
      "outputs": [
        {
          "output_type": "execute_result",
          "data": {
            "text/plain": [
              "Index(['name', 'type', 'url', 'global_id', 'description', 'published_at',\n",
              "       'publisher', 'citationHtml', 'identifier_of_dataverse',\n",
              "       'name_of_dataverse', 'citation', 'storageIdentifier', 'subjects',\n",
              "       'fileCount', 'versionId', 'versionState', 'majorVersion',\n",
              "       'minorVersion', 'createdAt', 'updatedAt', 'contacts', 'publications',\n",
              "       'geographicCoverage', 'authors', 'file_id', 'file_type',\n",
              "       'file_content_type', 'size_in_bytes', 'md5', 'checksum',\n",
              "       'file_persistent_id', 'dataset_name', 'dataset_id',\n",
              "       'dataset_persistent_id', 'dataset_citation', 'unf', 'keywords',\n",
              "       'producers', 'dataSources', 'relatedMaterial', 'identifier'],\n",
              "      dtype='object')"
            ]
          },
          "metadata": {},
          "execution_count": 10
        }
      ],
      "source": [
        "df.columns"
      ]
    },
    {
      "cell_type": "markdown",
      "metadata": {
        "id": "XzA-lTdbQytx"
      },
      "source": [
        "**columns they all have** : 'name', 'type', 'url', 'description'\n",
        "\n",
        " **only file have :** 'file_id', 'file_type', 'file_content_type' 'size_in_bytes', 'md5', 'checksum',   'file_persistent_id', 'dataset_name', 'dataset_id', 'dataset_persistent_id', 'dataset_citation'\n",
        "\n",
        "**only dataset have :** 'global_id', 'publisher', 'citationHtml', 'identifier_of_dataverse', 'name_of_dataverse', 'citation', 'storageIdentifier', 'subjects', 'fileCount', 'versionId', 'versionState', 'createdAt', 'updatedAt', 'contacts', 'authors'\n",
        "\n",
        "**only dataverse have :** 'identifier'\n",
        "\n",
        "**mixed between the types (TBD) :**   'description', 'majorVersion', 'minorVersion', 'publications','geographicCoverage', 'unf', 'keywords', 'producers', 'dataSources', 'relatedMaterial',"
      ]
    },
    {
      "cell_type": "markdown",
      "metadata": {
        "id": "TEis7C-SSZiD"
      },
      "source": [
        "# Description analysis"
      ]
    },
    {
      "cell_type": "code",
      "execution_count": 11,
      "metadata": {
        "id": "kd1Ag4j6gnC0"
      },
      "outputs": [],
      "source": [
        "df_description = df[df['description'].notna()]"
      ]
    },
    {
      "cell_type": "code",
      "execution_count": 12,
      "metadata": {
        "colab": {
          "base_uri": "https://localhost:8080/"
        },
        "id": "3Rgg3qYWhYgT",
        "outputId": "e3118889-5ec9-4680-a8fd-f8acec208d6d"
      },
      "outputs": [
        {
          "output_type": "execute_result",
          "data": {
            "text/plain": [
              "file         24273\n",
              "dataset       3662\n",
              "dataverse      540\n",
              "Name: type, dtype: int64"
            ]
          },
          "metadata": {},
          "execution_count": 12
        }
      ],
      "source": [
        "df_description['type'].value_counts()"
      ]
    },
    {
      "cell_type": "markdown",
      "source": [
        "**All the datasets have a description**"
      ],
      "metadata": {
        "id": "JEaBNACSZ40G"
      }
    },
    {
      "cell_type": "code",
      "execution_count": null,
      "metadata": {
        "id": "TorjtYd3h9Y5"
      },
      "outputs": [],
      "source": [
        "df_description['descr_len'] = df_description['description'].str.len()"
      ]
    },
    {
      "cell_type": "code",
      "execution_count": null,
      "metadata": {
        "id": "weG6XC0OiwyG"
      },
      "outputs": [],
      "source": [
        "df_description['descr_len'].value_counts()"
      ]
    },
    {
      "cell_type": "code",
      "execution_count": 15,
      "metadata": {
        "id": "j3F4RzLDph36"
      },
      "outputs": [],
      "source": [
        "df_description_1 = df_description[df_description['descr_len'] != 0]"
      ]
    },
    {
      "cell_type": "code",
      "execution_count": 16,
      "metadata": {
        "colab": {
          "base_uri": "https://localhost:8080/"
        },
        "id": "Qc1W5kA2pna3",
        "outputId": "ab23463b-7b3a-4eab-c84c-676810c0f51c"
      },
      "outputs": [
        {
          "output_type": "execute_result",
          "data": {
            "text/plain": [
              "file         7739\n",
              "dataset      3662\n",
              "dataverse     540\n",
              "Name: type, dtype: int64"
            ]
          },
          "metadata": {},
          "execution_count": 16
        }
      ],
      "source": [
        "df_description_1['type'].value_counts()"
      ]
    },
    {
      "cell_type": "code",
      "execution_count": 17,
      "metadata": {
        "colab": {
          "base_uri": "https://localhost:8080/"
        },
        "id": "Az_XnBiYqivh",
        "outputId": "92416247-d4f7-47a0-f87a-91e58f458acd"
      },
      "outputs": [
        {
          "output_type": "execute_result",
          "data": {
            "text/plain": [
              "18      196\n",
              "240     169\n",
              "46      147\n",
              "22      140\n",
              "7       127\n",
              "       ... \n",
              "884       1\n",
              "1349      1\n",
              "2573      1\n",
              "1019      1\n",
              "1674      1\n",
              "Name: descr_len, Length: 1690, dtype: int64"
            ]
          },
          "metadata": {},
          "execution_count": 17
        }
      ],
      "source": [
        "df_description_1['descr_len'].value_counts()"
      ]
    },
    {
      "cell_type": "code",
      "execution_count": 18,
      "metadata": {
        "colab": {
          "base_uri": "https://localhost:8080/"
        },
        "id": "Y_98TlJpsEDg",
        "outputId": "6928e0bd-3deb-47f8-e0e5-adeab6749e5a"
      },
      "outputs": [
        {
          "output_type": "execute_result",
          "data": {
            "text/plain": [
              "count    11941.000000\n",
              "mean       342.816850\n",
              "std        717.204782\n",
              "min          1.000000\n",
              "25%         46.000000\n",
              "50%        105.000000\n",
              "75%        294.000000\n",
              "max      12865.000000\n",
              "Name: descr_len, dtype: float64"
            ]
          },
          "metadata": {},
          "execution_count": 18
        }
      ],
      "source": [
        "df_description_1['descr_len'].describe()"
      ]
    },
    {
      "cell_type": "code",
      "execution_count": 19,
      "metadata": {
        "colab": {
          "base_uri": "https://localhost:8080/",
          "height": 472
        },
        "id": "NwJEDh0hqssX",
        "outputId": "7a0d3c23-9faf-42da-f47a-ae92519f67da"
      },
      "outputs": [
        {
          "output_type": "display_data",
          "data": {
            "text/plain": [
              "<Figure size 640x480 with 1 Axes>"
            ],
            "image/png": "[encoded data removed]"
          },
          "metadata": {}
        }
      ],
      "source": [
        "# Plot the value counts\n",
        "plt.bar(df_description_1['descr_len'].value_counts().index, df_description_1['descr_len'].value_counts().values)\n",
        "# Set the x-axis limits (adjust these values as needed)\n",
        "plt.xlim(0, 1000)\n",
        "\n",
        "# Set the y-axis limits (adjust these values as needed)\n",
        "plt.ylim(0, 100)\n",
        "plt.xlabel('Description Length')\n",
        "plt.ylabel('Count')\n",
        "plt.title('Distribution of Description Lengths')\n",
        "plt.show()\n"
      ]
    },
    {
      "cell_type": "code",
      "execution_count": 20,
      "metadata": {
        "colab": {
          "base_uri": "https://localhost:8080/",
          "height": 472
        },
        "id": "66y0kp-1Tt_4",
        "outputId": "ad1cabd4-521f-44ba-d4eb-f9e9fc832d9b"
      },
      "outputs": [
        {
          "output_type": "display_data",
          "data": {
            "text/plain": [
              "<Figure size 640x480 with 1 Axes>"
            ],
            "image/png": "[encoded data removed]"
          },
          "metadata": {}
        }
      ],
      "source": [
        "# Create a boxplot using Seaborn\n",
        "sns.boxplot(x='type', y='descr_len', data=df_description_1)\n",
        "\n",
        "plt.xlabel('Data Type')\n",
        "plt.ylabel('Description Length')\n",
        "plt.title('Distribution of Description Lengths by Data Type')\n",
        "plt.show()"
      ]
    },
    {
      "cell_type": "code",
      "source": [
        "df_description_1['description']"
      ],
      "metadata": {
        "colab": {
          "base_uri": "https://localhost:8080/"
        },
        "id": "NY_Vv3SDVcXr",
        "outputId": "2e36a04a-0e91-4f72-8282-3c51ca032e21"
      },
      "execution_count": 56,
      "outputs": [
        {
          "output_type": "execute_result",
          "data": {
            "text/plain": [
              "0        Positive mode LC-MS metabolomic profiling of 1...\n",
              "1                              List of annotated variables\n",
              "2        48 negative mode LC-MS acquisitions of samples...\n",
              "3        Data output from MSDIAL software with an addit...\n",
              "4                        used parameters with MSDial v3.66\n",
              "                               ...                        \n",
              "49985    This dataset includes observations on soil org...\n",
              "49986    This data on fonio highlighted that social fac...\n",
              "49987    Plant (maize) and soil characteristics were mo...\n",
              "49988    L'objectif de ce questionnaire est de cerner l...\n",
              "49989    L'enquête \"Travail décent, sentiment d’exploit...\n",
              "Name: description, Length: 11941, dtype: object"
            ]
          },
          "metadata": {},
          "execution_count": 56
        }
      ]
    },
    {
      "cell_type": "code",
      "source": [
        "from nltk.corpus import stopwords\n",
        "from nltk.tokenize  import word_tokenize\n"
      ],
      "metadata": {
        "id": "261WVuHCWZL0"
      },
      "execution_count": 64,
      "outputs": []
    },
    {
      "cell_type": "code",
      "source": [
        "\n",
        "import nltk\n",
        "nltk.download('punkt')\n",
        "nltk.download('stopwords')\n",
        "\n",
        "# Tokenize and count words in each description\n",
        "stop_words = set(stopwords.words('french'))\n",
        "df_description_1['word_count'] = df_description_1['description'].apply(lambda x: len([word for word in word_tokenize(x, language='french') if word.lower() not in stop_words]))\n",
        "\n"
      ],
      "metadata": {
        "colab": {
          "base_uri": "https://localhost:8080/"
        },
        "id": "ptC_lmuLWdOJ",
        "outputId": "46f12a2a-5380-4cfe-c015-427d25688ba9"
      },
      "execution_count": 65,
      "outputs": [
        {
          "output_type": "stream",
          "name": "stderr",
          "text": [
            "[nltk_data] Downloading package punkt to /root/nltk_data...\n",
            "[nltk_data]   Package punkt is already up-to-date!\n",
            "[nltk_data] Downloading package stopwords to /root/nltk_data...\n",
            "[nltk_data]   Unzipping corpora/stopwords.zip.\n",
            "<ipython-input-65-0abd20e5b86d>:7: SettingWithCopyWarning: \n",
            "A value is trying to be set on a copy of a slice from a DataFrame.\n",
            "Try using .loc[row_indexer,col_indexer] = value instead\n",
            "\n",
            "See the caveats in the documentation: https://pandas.pydata.org/pandas-docs/stable/user_guide/indexing.html#returning-a-view-versus-a-copy\n",
            "  df_description_1['word_count'] = df_description_1['description'].apply(lambda x: len([word for word in word_tokenize(x, language='french') if word.lower() not in stop_words]))\n"
          ]
        }
      ]
    },
    {
      "cell_type": "code",
      "source": [
        "df_description_1['word_count'].describe()"
      ],
      "metadata": {
        "colab": {
          "base_uri": "https://localhost:8080/"
        },
        "id": "5boEWcihYmgd",
        "outputId": "ab355431-139d-4340-814c-ce2a5a560d78"
      },
      "execution_count": 74,
      "outputs": [
        {
          "output_type": "execute_result",
          "data": {
            "text/plain": [
              "count    11941.000000\n",
              "mean        54.555900\n",
              "std        113.284675\n",
              "min          1.000000\n",
              "25%          7.000000\n",
              "50%         16.000000\n",
              "75%         48.000000\n",
              "max       2217.000000\n",
              "Name: word_count, dtype: float64"
            ]
          },
          "metadata": {},
          "execution_count": 74
        }
      ]
    },
    {
      "cell_type": "code",
      "source": [
        "# Plot the distribution of the number of words per description\n",
        "plt.hist(df_description_1['word_count'], bins=range(1, max(df_description_1['word_count']) + 2), edgecolor='black')\n",
        "plt.xlabel('Number of Words per Description')\n",
        "plt.ylabel('Frequency')\n",
        "plt.title('Distribution of Words per Description')\n",
        "plt.xlim(0, 500)\n",
        "\n",
        "# Set the y-axis limits (adjust these values as needed)\n",
        "plt.ylim(0, 600)\n",
        "plt.show()"
      ],
      "metadata": {
        "colab": {
          "base_uri": "https://localhost:8080/",
          "height": 472
        },
        "id": "15v4ncTPX5mt",
        "outputId": "49f8975d-b9d5-4248-a9b4-6e1aea6d3046"
      },
      "execution_count": 71,
      "outputs": [
        {
          "output_type": "display_data",
          "data": {
            "text/plain": [
              "<Figure size 640x480 with 1 Axes>"
            ],
            "image/png": "[encoded data removed]"
          },
          "metadata": {}
        }
      ]
    },
    {
      "cell_type": "markdown",
      "metadata": {
        "id": "X1iVl6a3UmUN"
      },
      "source": [
        "# Keywords analysis"
      ]
    },
    {
      "cell_type": "code",
      "execution_count": 21,
      "metadata": {
        "id": "F-aLot99Ulky"
      },
      "outputs": [],
      "source": [
        "df_keywords = df[df['keywords'].notna()]"
      ]
    },
    {
      "cell_type": "code",
      "execution_count": 22,
      "metadata": {
        "colab": {
          "base_uri": "https://localhost:8080/"
        },
        "id": "hAlbc3lY-eoT",
        "outputId": "f564c413-8f83-4a73-a04c-ea1ee807c1d1"
      },
      "outputs": [
        {
          "output_type": "execute_result",
          "data": {
            "text/plain": [
              "dataset    2622\n",
              "Name: type, dtype: int64"
            ]
          },
          "metadata": {},
          "execution_count": 22
        }
      ],
      "source": [
        "df_keywords['type'].value_counts()"
      ]
    },
    {
      "cell_type": "code",
      "execution_count": 23,
      "metadata": {
        "colab": {
          "base_uri": "https://localhost:8080/"
        },
        "id": "MKE0f2WkUL5o",
        "outputId": "9fcb4df1-95b0-4c9d-8fd6-f4d7810019a7"
      },
      "outputs": [
        {
          "output_type": "execute_result",
          "data": {
            "text/plain": [
              "2622"
            ]
          },
          "metadata": {},
          "execution_count": 23
        }
      ],
      "source": [
        "df_description_1['keywords'].count()"
      ]
    },
    {
      "cell_type": "markdown",
      "metadata": {
        "id": "tgVDbzViQYjC"
      },
      "source": [
        "The only documents with keywords are datasets."
      ]
    },
    {
      "cell_type": "code",
      "source": [
        "df_keywords['keywords']"
      ],
      "metadata": {
        "colab": {
          "base_uri": "https://localhost:8080/"
        },
        "id": "GHheyVx2FXB2",
        "outputId": "1f4edf6d-638f-4777-fcb6-6ffb64f432d9"
      },
      "execution_count": 24,
      "outputs": [
        {
          "output_type": "execute_result",
          "data": {
            "text/plain": [
              "26                                                   [PHA]\n",
              "32              [Cedrus atlantica, thinning, silviculture]\n",
              "38       [RFID, RAIN standard, UHF band, carbon dioxide...\n",
              "44       [air temperature, air relative humidity, cumul...\n",
              "58       [Xylella fastidiosa, xf, XYLEFA, Epidémiosurve...\n",
              "                               ...                        \n",
              "49985    [Agricultural Sciences, Earth and Environmenta...\n",
              "49986    [Agricultural Sciences, Social Sciences, Agrob...\n",
              "49987    [Agricultural Sciences, Earth and Environmenta...\n",
              "49988    [Social Sciences, POLICE-COMMUNITY RELATIONSHI...\n",
              "49989    [Social Sciences, TRAVAIL ET EMPLOI, ATTITUDES...\n",
              "Name: keywords, Length: 2622, dtype: object"
            ]
          },
          "metadata": {},
          "execution_count": 24
        }
      ]
    },
    {
      "cell_type": "code",
      "source": [
        "# Explode the 'keywords' lists into separate rows\n",
        "keywords_series = df_keywords['keywords'].explode()\n",
        "\n",
        "# Count the occurrences of each keyword\n",
        "keyword_counts = keywords_series.value_counts()\n",
        "\n",
        "# Display the counts\n",
        "print(keyword_counts)"
      ],
      "metadata": {
        "colab": {
          "base_uri": "https://localhost:8080/"
        },
        "id": "KjrTPA4MFImR",
        "outputId": "3b4c8b6b-b516-41e6-e775-725fb3eef6aa"
      },
      "execution_count": 25,
      "outputs": [
        {
          "output_type": "stream",
          "name": "stdout",
          "text": [
            "pollen                    651\n",
            "archéologie               505\n",
            "archaeology               505\n",
            "Social Sciences           448\n",
            "environmental sciences    340\n",
            "                         ... \n",
            "wood (material)             1\n",
            "Coniferae                   1\n",
            "Protein content             1\n",
            "Life cycle inventory        1\n",
            "vermicompost                1\n",
            "Name: keywords, Length: 5874, dtype: int64\n"
          ]
        }
      ]
    },
    {
      "cell_type": "code",
      "source": [
        "# Create a new column 'keyword_count' with the count of keywords per line\n",
        "df_keywords['keyword_count'] = df_keywords['keywords'].apply(len)\n",
        "\n",
        "# Display the DataFrame with the keyword counts\n",
        "print(df_keywords[['keywords', 'keyword_count']])"
      ],
      "metadata": {
        "colab": {
          "base_uri": "https://localhost:8080/"
        },
        "id": "zL6wxvNGHRBe",
        "outputId": "953f5d3c-645b-40c5-c414-40d12b311919"
      },
      "execution_count": 26,
      "outputs": [
        {
          "output_type": "stream",
          "name": "stdout",
          "text": [
            "                                                keywords  keyword_count\n",
            "26                                                 [PHA]              1\n",
            "32            [Cedrus atlantica, thinning, silviculture]              3\n",
            "38     [RFID, RAIN standard, UHF band, carbon dioxide...              6\n",
            "44     [air temperature, air relative humidity, cumul...              6\n",
            "58     [Xylella fastidiosa, xf, XYLEFA, Epidémiosurve...              7\n",
            "...                                                  ...            ...\n",
            "49985  [Agricultural Sciences, Earth and Environmenta...              6\n",
            "49986  [Agricultural Sciences, Social Sciences, Agrob...              7\n",
            "49987  [Agricultural Sciences, Earth and Environmenta...              6\n",
            "49988  [Social Sciences, POLICE-COMMUNITY RELATIONSHI...              4\n",
            "49989  [Social Sciences, TRAVAIL ET EMPLOI, ATTITUDES...              3\n",
            "\n",
            "[2622 rows x 2 columns]\n"
          ]
        },
        {
          "output_type": "stream",
          "name": "stderr",
          "text": [
            "<ipython-input-26-5de377f83d8e>:2: SettingWithCopyWarning: \n",
            "A value is trying to be set on a copy of a slice from a DataFrame.\n",
            "Try using .loc[row_indexer,col_indexer] = value instead\n",
            "\n",
            "See the caveats in the documentation: https://pandas.pydata.org/pandas-docs/stable/user_guide/indexing.html#returning-a-view-versus-a-copy\n",
            "  df_keywords['keyword_count'] = df_keywords['keywords'].apply(len)\n"
          ]
        }
      ]
    },
    {
      "cell_type": "code",
      "source": [
        "df_keywords['keyword_count'].describe()"
      ],
      "metadata": {
        "colab": {
          "base_uri": "https://localhost:8080/"
        },
        "id": "GD9EVJepHXQB",
        "outputId": "6b888baa-de41-4a26-edfd-9a2daa5d8054"
      },
      "execution_count": 72,
      "outputs": [
        {
          "output_type": "execute_result",
          "data": {
            "text/plain": [
              "count    2622.000000\n",
              "mean        6.305111\n",
              "std         6.908458\n",
              "min         1.000000\n",
              "25%         2.000000\n",
              "50%         4.000000\n",
              "75%         8.000000\n",
              "max       140.000000\n",
              "Name: keyword_count, dtype: float64"
            ]
          },
          "metadata": {},
          "execution_count": 72
        }
      ]
    },
    {
      "cell_type": "code",
      "source": [
        "# Plot the distribution of keyword counts\n",
        "plt.hist(df_keywords['keyword_count'], bins=range(1, max(df_keywords['keyword_count']) + 2), edgecolor='black')\n",
        "plt.xlabel('Number of Keywords per dataset')\n",
        "plt.ylabel('Frequency')\n",
        "plt.xlim(0, 50)\n",
        "\n",
        "# Set the y-axis limits (adjust these values as needed)\n",
        "plt.ylim(0, 600)\n",
        "plt.title('Distribution of Keywords per sataset')\n",
        "plt.show()\n"
      ],
      "metadata": {
        "colab": {
          "base_uri": "https://localhost:8080/",
          "height": 472
        },
        "id": "9jevh_sQH1sT",
        "outputId": "15f52def-b6a1-45bf-d852-860df7170757"
      },
      "execution_count": 28,
      "outputs": [
        {
          "output_type": "display_data",
          "data": {
            "text/plain": [
              "<Figure size 640x480 with 1 Axes>"
            ],
            "image/png": "[encoded data removed]"
          },
          "metadata": {}
        }
      ]
    },
    {
      "cell_type": "markdown",
      "metadata": {
        "id": "uyZk84oSQlJp"
      },
      "source": [
        "# Date analysis"
      ]
    },
    {
      "cell_type": "code",
      "execution_count": 29,
      "metadata": {
        "colab": {
          "base_uri": "https://localhost:8080/",
          "height": 968
        },
        "id": "xu_gDKHiQiej",
        "outputId": "e31bbc21-4245-4811-f45d-00df727ecad9"
      },
      "outputs": [
        {
          "output_type": "execute_result",
          "data": {
            "text/plain": [
              "                                                name     type  \\\n",
              "0  Positive mode LC-MS metabolomics of tomato fru...  dataset   \n",
              "1         MET-2018-P13-CM_LCMS_annotation_table.xlsx     file   \n",
              "2                   MET-2018-P13-CM_LCMS_pos_data.7z     file   \n",
              "3  MET-2018-P13-CM_LCMS_pos_DWnorm_MSDIAL_output_...     file   \n",
              "4  MET-2018-P13-CM_LCMS_pos_MSDIAL_Parameters_4_2...     file   \n",
              "5  MET-2018-P13-CM_SOP for LCMS metabolomics prof...     file   \n",
              "6  Negative mode LC-MS metabolomics of tomato fru...  dataset   \n",
              "7  MET-2018-P13-CM_DWnorm_MSDIAL_output_Normalize...     file   \n",
              "8        MET-2018-P13-CM_LCMS_ annotation_table.xlsx     file   \n",
              "9              MET-2018-P13-CM_LCMS_neg_ abf_data.7z     file   \n",
              "\n",
              "                                                 url            global_id  \\\n",
              "0                    https://doi.org/10.15454/IFPJAP  doi:10.15454/IFPJAP   \n",
              "1  https://entrepot.recherche.data.gouv.fr/api/ac...                  NaN   \n",
              "2  https://entrepot.recherche.data.gouv.fr/api/ac...                  NaN   \n",
              "3  https://entrepot.recherche.data.gouv.fr/api/ac...                  NaN   \n",
              "4  https://entrepot.recherche.data.gouv.fr/api/ac...                  NaN   \n",
              "5  https://entrepot.recherche.data.gouv.fr/api/ac...                  NaN   \n",
              "6                    https://doi.org/10.15454/YVKQRW  doi:10.15454/YVKQRW   \n",
              "7  https://entrepot.recherche.data.gouv.fr/api/ac...                  NaN   \n",
              "8  https://entrepot.recherche.data.gouv.fr/api/ac...                  NaN   \n",
              "9  https://entrepot.recherche.data.gouv.fr/api/ac...                  NaN   \n",
              "\n",
              "                                         description          published_at  \\\n",
              "0  Positive mode LC-MS metabolomic profiling of 1...  2020-07-03T15:04:19Z   \n",
              "1                        List of annotated variables  2020-07-03T15:04:19Z   \n",
              "2  48 negative mode LC-MS acquisitions of samples...  2020-07-03T15:04:19Z   \n",
              "3  Data output from MSDIAL software with an addit...  2020-07-03T15:04:19Z   \n",
              "4                  used parameters with MSDial v3.66  2020-07-03T15:04:19Z   \n",
              "5                                                     2020-07-03T15:04:19Z   \n",
              "6  Negative mode LC-MS metabolomic profiling of 1...  2020-07-02T08:32:21Z   \n",
              "7  Data output from MSDIAL software with an addit...  2020-07-02T08:32:21Z   \n",
              "8                        List of annotated variables  2020-07-02T08:32:21Z   \n",
              "9  48 negative mode LC-MS acquisitions of samples...  2020-07-02T08:32:21Z   \n",
              "\n",
              "                                           publisher  \\\n",
              "0  Metabolome of tomato fruit pericarp of gbp1-c ...   \n",
              "1                                                NaN   \n",
              "2                                                NaN   \n",
              "3                                                NaN   \n",
              "4                                                NaN   \n",
              "5                                                NaN   \n",
              "6  Metabolome of tomato fruit pericarp of gbp1-c ...   \n",
              "7                                                NaN   \n",
              "8                                                NaN   \n",
              "9                                                NaN   \n",
              "\n",
              "                                        citationHtml identifier_of_dataverse  \\\n",
              "0  Bernillon, St&eacute;phane, 2020, \"Positive mo...                 Sl-gbp1   \n",
              "1                                                NaN                     NaN   \n",
              "2                                                NaN                     NaN   \n",
              "3                                                NaN                     NaN   \n",
              "4                                                NaN                     NaN   \n",
              "5                                                NaN                     NaN   \n",
              "6  Bernillon, St&eacute;phane, 2020, \"Negative mo...                 Sl-gbp1   \n",
              "7                                                NaN                     NaN   \n",
              "8                                                NaN                     NaN   \n",
              "9                                                NaN                     NaN   \n",
              "\n",
              "                                   name_of_dataverse  ...  \\\n",
              "0  Metabolome of tomato fruit pericarp of gbp1-c ...  ...   \n",
              "1                                                NaN  ...   \n",
              "2                                                NaN  ...   \n",
              "3                                                NaN  ...   \n",
              "4                                                NaN  ...   \n",
              "5                                                NaN  ...   \n",
              "6  Metabolome of tomato fruit pericarp of gbp1-c ...  ...   \n",
              "7                                                NaN  ...   \n",
              "8                                                NaN  ...   \n",
              "9                                                NaN  ...   \n",
              "\n",
              "                                        dataset_name dataset_id  \\\n",
              "0                                                NaN        NaN   \n",
              "1  Positive mode LC-MS metabolomics of tomato fru...     100017   \n",
              "2  Positive mode LC-MS metabolomics of tomato fru...     100017   \n",
              "3  Positive mode LC-MS metabolomics of tomato fru...     100017   \n",
              "4  Positive mode LC-MS metabolomics of tomato fru...     100017   \n",
              "5  Positive mode LC-MS metabolomics of tomato fru...     100017   \n",
              "6                                                NaN        NaN   \n",
              "7  Negative mode LC-MS metabolomics of tomato fru...     100007   \n",
              "8  Negative mode LC-MS metabolomics of tomato fru...     100007   \n",
              "9  Negative mode LC-MS metabolomics of tomato fru...     100007   \n",
              "\n",
              "  dataset_persistent_id                                   dataset_citation  \\\n",
              "0                   NaN                                                NaN   \n",
              "1   doi:10.15454/IFPJAP  Bernillon, Stéphane, 2020, \"Positive mode LC-M...   \n",
              "2   doi:10.15454/IFPJAP  Bernillon, Stéphane, 2020, \"Positive mode LC-M...   \n",
              "3   doi:10.15454/IFPJAP  Bernillon, Stéphane, 2020, \"Positive mode LC-M...   \n",
              "4   doi:10.15454/IFPJAP  Bernillon, Stéphane, 2020, \"Positive mode LC-M...   \n",
              "5   doi:10.15454/IFPJAP  Bernillon, Stéphane, 2020, \"Positive mode LC-M...   \n",
              "6                   NaN                                                NaN   \n",
              "7   doi:10.15454/YVKQRW  Bernillon, Stéphane, 2020, \"Negative mode LC-M...   \n",
              "8   doi:10.15454/YVKQRW  Bernillon, Stéphane, 2020, \"Negative mode LC-M...   \n",
              "9   doi:10.15454/YVKQRW  Bernillon, Stéphane, 2020, \"Negative mode LC-M...   \n",
              "\n",
              "   unf keywords  producers  dataSources relatedMaterial identifier  \n",
              "0  NaN      NaN        NaN          NaN             NaN        NaN  \n",
              "1  NaN      NaN        NaN          NaN             NaN        NaN  \n",
              "2  NaN      NaN        NaN          NaN             NaN        NaN  \n",
              "3  NaN      NaN        NaN          NaN             NaN        NaN  \n",
              "4  NaN      NaN        NaN          NaN             NaN        NaN  \n",
              "5  NaN      NaN        NaN          NaN             NaN        NaN  \n",
              "6  NaN      NaN        NaN          NaN             NaN        NaN  \n",
              "7  NaN      NaN        NaN          NaN             NaN        NaN  \n",
              "8  NaN      NaN        NaN          NaN             NaN        NaN  \n",
              "9  NaN      NaN        NaN          NaN             NaN        NaN  \n",
              "\n",
              "[10 rows x 41 columns]"
            ],
            "text/html": [
              "\n",
              "  <div id=\"df-9d633980-2be0-46d1-9264-fd2ec3be4c79\" class=\"colab-df-container\">\n",
              "    <div>\n",
              "<style scoped>\n",
              "    .dataframe tbody tr th:only-of-type {\n",
              "        vertical-align: middle;\n",
              "    }\n",
              "\n",
              "    .dataframe tbody tr th {\n",
              "        vertical-align: top;\n",
              "    }\n",
              "\n",
              "    .dataframe thead th {\n",
              "        text-align: right;\n",
              "    }\n",
              "</style>\n",
              "<table border=\"1\" class=\"dataframe\">\n",
              "  <thead>\n",
              "    <tr style=\"text-align: right;\">\n",
              "      <th></th>\n",
              "      <th>name</th>\n",
              "      <th>type</th>\n",
              "      <th>url</th>\n",
              "      <th>global_id</th>\n",
              "      <th>description</th>\n",
              "      <th>published_at</th>\n",
              "      <th>publisher</th>\n",
              "      <th>citationHtml</th>\n",
              "      <th>identifier_of_dataverse</th>\n",
              "      <th>name_of_dataverse</th>\n",
              "      <th>...</th>\n",
              "      <th>dataset_name</th>\n",
              "      <th>dataset_id</th>\n",
              "      <th>dataset_persistent_id</th>\n",
              "      <th>dataset_citation</th>\n",
              "      <th>unf</th>\n",
              "      <th>keywords</th>\n",
              "      <th>producers</th>\n",
              "      <th>dataSources</th>\n",
              "      <th>relatedMaterial</th>\n",
              "      <th>identifier</th>\n",
              "    </tr>\n",
              "  </thead>\n",
              "  <tbody>\n",
              "    <tr>\n",
              "      <th>0</th>\n",
              "      <td>Positive mode LC-MS metabolomics of tomato fru...</td>\n",
              "      <td>dataset</td>\n",
              "      <td>https://doi.org/10.15454/IFPJAP</td>\n",
              "      <td>doi:10.15454/IFPJAP</td>\n",
              "      <td>Positive mode LC-MS metabolomic profiling of 1...</td>\n",
              "      <td>2020-07-03T15:04:19Z</td>\n",
              "      <td>Metabolome of tomato fruit pericarp of gbp1-c ...</td>\n",
              "      <td>Bernillon, St&amp;eacute;phane, 2020, \"Positive mo...</td>\n",
              "      <td>Sl-gbp1</td>\n",
              "      <td>Metabolome of tomato fruit pericarp of gbp1-c ...</td>\n",
              "      <td>...</td>\n",
              "      <td>NaN</td>\n",
              "      <td>NaN</td>\n",
              "      <td>NaN</td>\n",
              "      <td>NaN</td>\n",
              "      <td>NaN</td>\n",
              "      <td>NaN</td>\n",
              "      <td>NaN</td>\n",
              "      <td>NaN</td>\n",
              "      <td>NaN</td>\n",
              "      <td>NaN</td>\n",
              "    </tr>\n",
              "    <tr>\n",
              "      <th>1</th>\n",
              "      <td>MET-2018-P13-CM_LCMS_annotation_table.xlsx</td>\n",
              "      <td>file</td>\n",
              "      <td>https://entrepot.recherche.data.gouv.fr/api/ac...</td>\n",
              "      <td>NaN</td>\n",
              "      <td>List of annotated variables</td>\n",
              "      <td>2020-07-03T15:04:19Z</td>\n",
              "      <td>NaN</td>\n",
              "      <td>NaN</td>\n",
              "      <td>NaN</td>\n",
              "      <td>NaN</td>\n",
              "      <td>...</td>\n",
              "      <td>Positive mode LC-MS metabolomics of tomato fru...</td>\n",
              "      <td>100017</td>\n",
              "      <td>doi:10.15454/IFPJAP</td>\n",
              "      <td>Bernillon, Stéphane, 2020, \"Positive mode LC-M...</td>\n",
              "      <td>NaN</td>\n",
              "      <td>NaN</td>\n",
              "      <td>NaN</td>\n",
              "      <td>NaN</td>\n",
              "      <td>NaN</td>\n",
              "      <td>NaN</td>\n",
              "    </tr>\n",
              "    <tr>\n",
              "      <th>2</th>\n",
              "      <td>MET-2018-P13-CM_LCMS_pos_data.7z</td>\n",
              "      <td>file</td>\n",
              "      <td>https://entrepot.recherche.data.gouv.fr/api/ac...</td>\n",
              "      <td>NaN</td>\n",
              "      <td>48 negative mode LC-MS acquisitions of samples...</td>\n",
              "      <td>2020-07-03T15:04:19Z</td>\n",
              "      <td>NaN</td>\n",
              "      <td>NaN</td>\n",
              "      <td>NaN</td>\n",
              "      <td>NaN</td>\n",
              "      <td>...</td>\n",
              "      <td>Positive mode LC-MS metabolomics of tomato fru...</td>\n",
              "      <td>100017</td>\n",
              "      <td>doi:10.15454/IFPJAP</td>\n",
              "      <td>Bernillon, Stéphane, 2020, \"Positive mode LC-M...</td>\n",
              "      <td>NaN</td>\n",
              "      <td>NaN</td>\n",
              "      <td>NaN</td>\n",
              "      <td>NaN</td>\n",
              "      <td>NaN</td>\n",
              "      <td>NaN</td>\n",
              "    </tr>\n",
              "    <tr>\n",
              "      <th>3</th>\n",
              "      <td>MET-2018-P13-CM_LCMS_pos_DWnorm_MSDIAL_output_...</td>\n",
              "      <td>file</td>\n",
              "      <td>https://entrepot.recherche.data.gouv.fr/api/ac...</td>\n",
              "      <td>NaN</td>\n",
              "      <td>Data output from MSDIAL software with an addit...</td>\n",
              "      <td>2020-07-03T15:04:19Z</td>\n",
              "      <td>NaN</td>\n",
              "      <td>NaN</td>\n",
              "      <td>NaN</td>\n",
              "      <td>NaN</td>\n",
              "      <td>...</td>\n",
              "      <td>Positive mode LC-MS metabolomics of tomato fru...</td>\n",
              "      <td>100017</td>\n",
              "      <td>doi:10.15454/IFPJAP</td>\n",
              "      <td>Bernillon, Stéphane, 2020, \"Positive mode LC-M...</td>\n",
              "      <td>NaN</td>\n",
              "      <td>NaN</td>\n",
              "      <td>NaN</td>\n",
              "      <td>NaN</td>\n",
              "      <td>NaN</td>\n",
              "      <td>NaN</td>\n",
              "    </tr>\n",
              "    <tr>\n",
              "      <th>4</th>\n",
              "      <td>MET-2018-P13-CM_LCMS_pos_MSDIAL_Parameters_4_2...</td>\n",
              "      <td>file</td>\n",
              "      <td>https://entrepot.recherche.data.gouv.fr/api/ac...</td>\n",
              "      <td>NaN</td>\n",
              "      <td>used parameters with MSDial v3.66</td>\n",
              "      <td>2020-07-03T15:04:19Z</td>\n",
              "      <td>NaN</td>\n",
              "      <td>NaN</td>\n",
              "      <td>NaN</td>\n",
              "      <td>NaN</td>\n",
              "      <td>...</td>\n",
              "      <td>Positive mode LC-MS metabolomics of tomato fru...</td>\n",
              "      <td>100017</td>\n",
              "      <td>doi:10.15454/IFPJAP</td>\n",
              "      <td>Bernillon, Stéphane, 2020, \"Positive mode LC-M...</td>\n",
              "      <td>NaN</td>\n",
              "      <td>NaN</td>\n",
              "      <td>NaN</td>\n",
              "      <td>NaN</td>\n",
              "      <td>NaN</td>\n",
              "      <td>NaN</td>\n",
              "    </tr>\n",
              "    <tr>\n",
              "      <th>5</th>\n",
              "      <td>MET-2018-P13-CM_SOP for LCMS metabolomics prof...</td>\n",
              "      <td>file</td>\n",
              "      <td>https://entrepot.recherche.data.gouv.fr/api/ac...</td>\n",
              "      <td>NaN</td>\n",
              "      <td></td>\n",
              "      <td>2020-07-03T15:04:19Z</td>\n",
              "      <td>NaN</td>\n",
              "      <td>NaN</td>\n",
              "      <td>NaN</td>\n",
              "      <td>NaN</td>\n",
              "      <td>...</td>\n",
              "      <td>Positive mode LC-MS metabolomics of tomato fru...</td>\n",
              "      <td>100017</td>\n",
              "      <td>doi:10.15454/IFPJAP</td>\n",
              "      <td>Bernillon, Stéphane, 2020, \"Positive mode LC-M...</td>\n",
              "      <td>NaN</td>\n",
              "      <td>NaN</td>\n",
              "      <td>NaN</td>\n",
              "      <td>NaN</td>\n",
              "      <td>NaN</td>\n",
              "      <td>NaN</td>\n",
              "    </tr>\n",
              "    <tr>\n",
              "      <th>6</th>\n",
              "      <td>Negative mode LC-MS metabolomics of tomato fru...</td>\n",
              "      <td>dataset</td>\n",
              "      <td>https://doi.org/10.15454/YVKQRW</td>\n",
              "      <td>doi:10.15454/YVKQRW</td>\n",
              "      <td>Negative mode LC-MS metabolomic profiling of 1...</td>\n",
              "      <td>2020-07-02T08:32:21Z</td>\n",
              "      <td>Metabolome of tomato fruit pericarp of gbp1-c ...</td>\n",
              "      <td>Bernillon, St&amp;eacute;phane, 2020, \"Negative mo...</td>\n",
              "      <td>Sl-gbp1</td>\n",
              "      <td>Metabolome of tomato fruit pericarp of gbp1-c ...</td>\n",
              "      <td>...</td>\n",
              "      <td>NaN</td>\n",
              "      <td>NaN</td>\n",
              "      <td>NaN</td>\n",
              "      <td>NaN</td>\n",
              "      <td>NaN</td>\n",
              "      <td>NaN</td>\n",
              "      <td>NaN</td>\n",
              "      <td>NaN</td>\n",
              "      <td>NaN</td>\n",
              "      <td>NaN</td>\n",
              "    </tr>\n",
              "    <tr>\n",
              "      <th>7</th>\n",
              "      <td>MET-2018-P13-CM_DWnorm_MSDIAL_output_Normalize...</td>\n",
              "      <td>file</td>\n",
              "      <td>https://entrepot.recherche.data.gouv.fr/api/ac...</td>\n",
              "      <td>NaN</td>\n",
              "      <td>Data output from MSDIAL software with an addit...</td>\n",
              "      <td>2020-07-02T08:32:21Z</td>\n",
              "      <td>NaN</td>\n",
              "      <td>NaN</td>\n",
              "      <td>NaN</td>\n",
              "      <td>NaN</td>\n",
              "      <td>...</td>\n",
              "      <td>Negative mode LC-MS metabolomics of tomato fru...</td>\n",
              "      <td>100007</td>\n",
              "      <td>doi:10.15454/YVKQRW</td>\n",
              "      <td>Bernillon, Stéphane, 2020, \"Negative mode LC-M...</td>\n",
              "      <td>NaN</td>\n",
              "      <td>NaN</td>\n",
              "      <td>NaN</td>\n",
              "      <td>NaN</td>\n",
              "      <td>NaN</td>\n",
              "      <td>NaN</td>\n",
              "    </tr>\n",
              "    <tr>\n",
              "      <th>8</th>\n",
              "      <td>MET-2018-P13-CM_LCMS_ annotation_table.xlsx</td>\n",
              "      <td>file</td>\n",
              "      <td>https://entrepot.recherche.data.gouv.fr/api/ac...</td>\n",
              "      <td>NaN</td>\n",
              "      <td>List of annotated variables</td>\n",
              "      <td>2020-07-02T08:32:21Z</td>\n",
              "      <td>NaN</td>\n",
              "      <td>NaN</td>\n",
              "      <td>NaN</td>\n",
              "      <td>NaN</td>\n",
              "      <td>...</td>\n",
              "      <td>Negative mode LC-MS metabolomics of tomato fru...</td>\n",
              "      <td>100007</td>\n",
              "      <td>doi:10.15454/YVKQRW</td>\n",
              "      <td>Bernillon, Stéphane, 2020, \"Negative mode LC-M...</td>\n",
              "      <td>NaN</td>\n",
              "      <td>NaN</td>\n",
              "      <td>NaN</td>\n",
              "      <td>NaN</td>\n",
              "      <td>NaN</td>\n",
              "      <td>NaN</td>\n",
              "    </tr>\n",
              "    <tr>\n",
              "      <th>9</th>\n",
              "      <td>MET-2018-P13-CM_LCMS_neg_ abf_data.7z</td>\n",
              "      <td>file</td>\n",
              "      <td>https://entrepot.recherche.data.gouv.fr/api/ac...</td>\n",
              "      <td>NaN</td>\n",
              "      <td>48 negative mode LC-MS acquisitions of samples...</td>\n",
              "      <td>2020-07-02T08:32:21Z</td>\n",
              "      <td>NaN</td>\n",
              "      <td>NaN</td>\n",
              "      <td>NaN</td>\n",
              "      <td>NaN</td>\n",
              "      <td>...</td>\n",
              "      <td>Negative mode LC-MS metabolomics of tomato fru...</td>\n",
              "      <td>100007</td>\n",
              "      <td>doi:10.15454/YVKQRW</td>\n",
              "      <td>Bernillon, Stéphane, 2020, \"Negative mode LC-M...</td>\n",
              "      <td>NaN</td>\n",
              "      <td>NaN</td>\n",
              "      <td>NaN</td>\n",
              "      <td>NaN</td>\n",
              "      <td>NaN</td>\n",
              "      <td>NaN</td>\n",
              "    </tr>\n",
              "  </tbody>\n",
              "</table>\n",
              "<p>10 rows × 41 columns</p>\n",
              "</div>\n",
              "    <div class=\"colab-df-buttons\">\n",
              "\n",
              "  <div class=\"colab-df-container\">\n",
              "    <button class=\"colab-df-convert\" onclick=\"convertToInteractive('df-9d633980-2be0-46d1-9264-fd2ec3be4c79')\"\n",
              "            title=\"Convert this dataframe to an interactive table.\"\n",
              "            style=\"display:none;\">\n",
              "\n",
              "  <svg xmlns=\"http://www.w3.org/2000/svg\" height=\"24px\" viewBox=\"0 -960 960 960\">\n",
              "    <path d=\"M120-120v-720h720v720H120Zm60-500h600v-160H180v160Zm220 220h160v-160H400v160Zm0 220h160v-160H400v160ZM180-400h160v-160H180v160Zm440 0h160v-160H620v160ZM180-180h160v-160H180v160Zm440 0h160v-160H620v160Z\"/>\n",
              "  </svg>\n",
              "    </button>\n",
              "\n",
              "  <style>\n",
              "    .colab-df-container {\n",
              "      display:flex;\n",
              "      gap: 12px;\n",
              "    }\n",
              "\n",
              "    .colab-df-convert {\n",
              "      background-color: #E8F0FE;\n",
              "      border: none;\n",
              "      border-radius: 50%;\n",
              "      cursor: pointer;\n",
              "      display: none;\n",
              "      fill: #1967D2;\n",
              "      height: 32px;\n",
              "      padding: 0 0 0 0;\n",
              "      width: 32px;\n",
              "    }\n",
              "\n",
              "    .colab-df-convert:hover {\n",
              "      background-color: #E2EBFA;\n",
              "      box-shadow: 0px 1px 2px rgba(60, 64, 67, 0.3), 0px 1px 3px 1px rgba(60, 64, 67, 0.15);\n",
              "      fill: #174EA6;\n",
              "    }\n",
              "\n",
              "    .colab-df-buttons div {\n",
              "      margin-bottom: 4px;\n",
              "    }\n",
              "\n",
              "    [theme=dark] .colab-df-convert {\n",
              "      background-color: #3B4455;\n",
              "      fill: #D2E3FC;\n",
              "    }\n",
              "\n",
              "    [theme=dark] .colab-df-convert:hover {\n",
              "      background-color: #434B5C;\n",
              "      box-shadow: 0px 1px 3px 1px rgba(0, 0, 0, 0.15);\n",
              "      filter: drop-shadow(0px 1px 2px rgba(0, 0, 0, 0.3));\n",
              "      fill: #FFFFFF;\n",
              "    }\n",
              "  </style>\n",
              "\n",
              "    <script>\n",
              "      const buttonEl =\n",
              "        document.querySelector('#df-9d633980-2be0-46d1-9264-fd2ec3be4c79 button.colab-df-convert');\n",
              "      buttonEl.style.display =\n",
              "        google.colab.kernel.accessAllowed ? 'block' : 'none';\n",
              "\n",
              "      async function convertToInteractive(key) {\n",
              "        const element = document.querySelector('#df-9d633980-2be0-46d1-9264-fd2ec3be4c79');\n",
              "        const dataTable =\n",
              "          await google.colab.kernel.invokeFunction('convertToInteractive',\n",
              "                                                    [key], {});\n",
              "        if (!dataTable) return;\n",
              "\n",
              "        const docLinkHtml = 'Like what you see? Visit the ' +\n",
              "          '<a target=\"_blank\" href=https://colab.research.google.com/notebooks/data_table.ipynb>data table notebook</a>'\n",
              "          + ' to learn more about interactive tables.';\n",
              "        element.innerHTML = '';\n",
              "        dataTable['output_type'] = 'display_data';\n",
              "        await google.colab.output.renderOutput(dataTable, element);\n",
              "        const docLink = document.createElement('div');\n",
              "        docLink.innerHTML = docLinkHtml;\n",
              "        element.appendChild(docLink);\n",
              "      }\n",
              "    </script>\n",
              "  </div>\n",
              "\n",
              "\n",
              "<div id=\"df-72dbd2d9-e2f2-413f-862a-ac7647ed4e36\">\n",
              "  <button class=\"colab-df-quickchart\" onclick=\"quickchart('df-72dbd2d9-e2f2-413f-862a-ac7647ed4e36')\"\n",
              "            title=\"Suggest charts\"\n",
              "            style=\"display:none;\">\n",
              "\n",
              "<svg xmlns=\"http://www.w3.org/2000/svg\" height=\"24px\"viewBox=\"0 0 24 24\"\n",
              "     width=\"24px\">\n",
              "    <g>\n",
              "        <path d=\"M19 3H5c-1.1 0-2 .9-2 2v14c0 1.1.9 2 2 2h14c1.1 0 2-.9 2-2V5c0-1.1-.9-2-2-2zM9 17H7v-7h2v7zm4 0h-2V7h2v10zm4 0h-2v-4h2v4z\"/>\n",
              "    </g>\n",
              "</svg>\n",
              "  </button>\n",
              "\n",
              "<style>\n",
              "  .colab-df-quickchart {\n",
              "      --bg-color: #E8F0FE;\n",
              "      --fill-color: #1967D2;\n",
              "      --hover-bg-color: #E2EBFA;\n",
              "      --hover-fill-color: #174EA6;\n",
              "      --disabled-fill-color: #AAA;\n",
              "      --disabled-bg-color: #DDD;\n",
              "  }\n",
              "\n",
              "  [theme=dark] .colab-df-quickchart {\n",
              "      --bg-color: #3B4455;\n",
              "      --fill-color: #D2E3FC;\n",
              "      --hover-bg-color: #434B5C;\n",
              "      --hover-fill-color: #FFFFFF;\n",
              "      --disabled-bg-color: #3B4455;\n",
              "      --disabled-fill-color: #666;\n",
              "  }\n",
              "\n",
              "  .colab-df-quickchart {\n",
              "    background-color: var(--bg-color);\n",
              "    border: none;\n",
              "    border-radius: 50%;\n",
              "    cursor: pointer;\n",
              "    display: none;\n",
              "    fill: var(--fill-color);\n",
              "    height: 32px;\n",
              "    padding: 0;\n",
              "    width: 32px;\n",
              "  }\n",
              "\n",
              "  .colab-df-quickchart:hover {\n",
              "    background-color: var(--hover-bg-color);\n",
              "    box-shadow: 0 1px 2px rgba(60, 64, 67, 0.3), 0 1px 3px 1px rgba(60, 64, 67, 0.15);\n",
              "    fill: var(--button-hover-fill-color);\n",
              "  }\n",
              "\n",
              "  .colab-df-quickchart-complete:disabled,\n",
              "  .colab-df-quickchart-complete:disabled:hover {\n",
              "    background-color: var(--disabled-bg-color);\n",
              "    fill: var(--disabled-fill-color);\n",
              "    box-shadow: none;\n",
              "  }\n",
              "\n",
              "  .colab-df-spinner {\n",
              "    border: 2px solid var(--fill-color);\n",
              "    border-color: transparent;\n",
              "    border-bottom-color: var(--fill-color);\n",
              "    animation:\n",
              "      spin 1s steps(1) infinite;\n",
              "  }\n",
              "\n",
              "  @keyframes spin {\n",
              "    0% {\n",
              "      border-color: transparent;\n",
              "      border-bottom-color: var(--fill-color);\n",
              "      border-left-color: var(--fill-color);\n",
              "    }\n",
              "    20% {\n",
              "      border-color: transparent;\n",
              "      border-left-color: var(--fill-color);\n",
              "      border-top-color: var(--fill-color);\n",
              "    }\n",
              "    30% {\n",
              "      border-color: transparent;\n",
              "      border-left-color: var(--fill-color);\n",
              "      border-top-color: var(--fill-color);\n",
              "      border-right-color: var(--fill-color);\n",
              "    }\n",
              "    40% {\n",
              "      border-color: transparent;\n",
              "      border-right-color: var(--fill-color);\n",
              "      border-top-color: var(--fill-color);\n",
              "    }\n",
              "    60% {\n",
              "      border-color: transparent;\n",
              "      border-right-color: var(--fill-color);\n",
              "    }\n",
              "    80% {\n",
              "      border-color: transparent;\n",
              "      border-right-color: var(--fill-color);\n",
              "      border-bottom-color: var(--fill-color);\n",
              "    }\n",
              "    90% {\n",
              "      border-color: transparent;\n",
              "      border-bottom-color: var(--fill-color);\n",
              "    }\n",
              "  }\n",
              "</style>\n",
              "\n",
              "  <script>\n",
              "    async function quickchart(key) {\n",
              "      const quickchartButtonEl =\n",
              "        document.querySelector('#' + key + ' button');\n",
              "      quickchartButtonEl.disabled = true;  // To prevent multiple clicks.\n",
              "      quickchartButtonEl.classList.add('colab-df-spinner');\n",
              "      try {\n",
              "        const charts = await google.colab.kernel.invokeFunction(\n",
              "            'suggestCharts', [key], {});\n",
              "      } catch (error) {\n",
              "        console.error('Error during call to suggestCharts:', error);\n",
              "      }\n",
              "      quickchartButtonEl.classList.remove('colab-df-spinner');\n",
              "      quickchartButtonEl.classList.add('colab-df-quickchart-complete');\n",
              "    }\n",
              "    (() => {\n",
              "      let quickchartButtonEl =\n",
              "        document.querySelector('#df-72dbd2d9-e2f2-413f-862a-ac7647ed4e36 button');\n",
              "      quickchartButtonEl.style.display =\n",
              "        google.colab.kernel.accessAllowed ? 'block' : 'none';\n",
              "    })();\n",
              "  </script>\n",
              "</div>\n",
              "    </div>\n",
              "  </div>\n"
            ]
          },
          "metadata": {},
          "execution_count": 29
        }
      ],
      "source": [
        "df.head(10)"
      ]
    },
    {
      "cell_type": "code",
      "execution_count": 30,
      "metadata": {
        "id": "NgqoUJdrSu8w"
      },
      "outputs": [],
      "source": [
        "df['published_at'] = pd.to_datetime(df['published_at'])"
      ]
    },
    {
      "cell_type": "code",
      "execution_count": 31,
      "metadata": {
        "colab": {
          "base_uri": "https://localhost:8080/"
        },
        "id": "jxUK1WQaTCEg",
        "outputId": "7d33b840-81be-4b4d-f280-75967dcdef9b"
      },
      "outputs": [
        {
          "output_type": "execute_result",
          "data": {
            "text/plain": [
              "0       2020-07-03 15:04:19+00:00\n",
              "1       2020-07-03 15:04:19+00:00\n",
              "2       2020-07-03 15:04:19+00:00\n",
              "3       2020-07-03 15:04:19+00:00\n",
              "4       2020-07-03 15:04:19+00:00\n",
              "                   ...           \n",
              "49985   2023-12-06 01:00:04+00:00\n",
              "49986   2023-12-07 01:00:04+00:00\n",
              "49987   2023-12-14 01:00:03+00:00\n",
              "49988   2024-01-17 01:00:15+00:00\n",
              "49989   2024-01-17 01:00:15+00:00\n",
              "Name: published_at, Length: 49990, dtype: datetime64[ns, UTC]"
            ]
          },
          "metadata": {},
          "execution_count": 31
        }
      ],
      "source": [
        "df['published_at']"
      ]
    },
    {
      "cell_type": "code",
      "execution_count": 32,
      "metadata": {
        "colab": {
          "base_uri": "https://localhost:8080/"
        },
        "id": "7AbZBwHrUsKd",
        "outputId": "a55d19b8-dccf-40a9-c36b-6d9e30a95f73"
      },
      "outputs": [
        {
          "output_type": "stream",
          "name": "stderr",
          "text": [
            "<ipython-input-32-6967eab366df>:1: UserWarning: Converting to PeriodArray/Index representation will drop timezone information.\n",
            "  df['year_month'] = df['published_at'].dt.to_period('M')\n"
          ]
        }
      ],
      "source": [
        "df['year_month'] = df['published_at'].dt.to_period('M')\n",
        "\n",
        "df['year'] = df['published_at'].dt.year"
      ]
    },
    {
      "cell_type": "code",
      "execution_count": 33,
      "metadata": {
        "colab": {
          "base_uri": "https://localhost:8080/"
        },
        "id": "ZXCK8we3UzlP",
        "outputId": "d739c8e5-0212-4e4e-bb64-0bdbeb3b9dd4"
      },
      "outputs": [
        {
          "output_type": "execute_result",
          "data": {
            "text/plain": [
              "year\n",
              "2018      435\n",
              "2019      669\n",
              "2020     1770\n",
              "2021     3660\n",
              "2022     8039\n",
              "2023    13653\n",
              "2024      249\n",
              "Name: description, dtype: int64"
            ]
          },
          "metadata": {},
          "execution_count": 33
        }
      ],
      "source": [
        "df.groupby(df['year'])['description'].count()"
      ]
    },
    {
      "cell_type": "code",
      "execution_count": 34,
      "metadata": {
        "colab": {
          "base_uri": "https://localhost:8080/"
        },
        "id": "6ECuy91dVvM1",
        "outputId": "ca34462d-bfcc-4a93-ee25-23ae475a57b4"
      },
      "outputs": [
        {
          "output_type": "execute_result",
          "data": {
            "text/plain": [
              "year\n",
              "2018      939\n",
              "2019     4363\n",
              "2020     4087\n",
              "2021     8482\n",
              "2022    12163\n",
              "2023    18849\n",
              "2024     1107\n",
              "Name: name, dtype: int64"
            ]
          },
          "metadata": {},
          "execution_count": 34
        }
      ],
      "source": [
        "df.groupby(df['year'])['name'].count()"
      ]
    },
    {
      "cell_type": "code",
      "execution_count": 35,
      "metadata": {
        "colab": {
          "base_uri": "https://localhost:8080/"
        },
        "id": "bCSl_0ZtWvXL",
        "outputId": "fa5cdc47-8699-4c99-c048-d01906836d8c"
      },
      "outputs": [
        {
          "output_type": "execute_result",
          "data": {
            "text/plain": [
              "year\n",
              "2018      64\n",
              "2019     145\n",
              "2020     309\n",
              "2021     745\n",
              "2022     744\n",
              "2023    1591\n",
              "2024      64\n",
              "Name: name, dtype: int64"
            ]
          },
          "metadata": {},
          "execution_count": 35
        }
      ],
      "source": [
        "filtered_df = df[df['type'] == 'dataset']\n",
        "\n",
        "# Perform groupby and count the unique names\n",
        "result = filtered_df.groupby('year')['name'].count()\n",
        "result"
      ]
    },
    {
      "cell_type": "code",
      "execution_count": 36,
      "metadata": {
        "colab": {
          "base_uri": "https://localhost:8080/"
        },
        "id": "vODpHLMDXaEe",
        "outputId": "5faf5eaa-55d4-455f-fad0-25f4999f7269"
      },
      "outputs": [
        {
          "output_type": "stream",
          "name": "stderr",
          "text": [
            "<ipython-input-36-0030c949ae2b>:1: SettingWithCopyWarning: \n",
            "A value is trying to be set on a copy of a slice from a DataFrame.\n",
            "Try using .loc[row_indexer,col_indexer] = value instead\n",
            "\n",
            "See the caveats in the documentation: https://pandas.pydata.org/pandas-docs/stable/user_guide/indexing.html#returning-a-view-versus-a-copy\n",
            "  df_description_1['published_at'] = pd.to_datetime(df_description_1['published_at'])\n"
          ]
        }
      ],
      "source": [
        "df_description_1['published_at'] = pd.to_datetime(df_description_1['published_at'])"
      ]
    },
    {
      "cell_type": "code",
      "execution_count": 37,
      "metadata": {
        "colab": {
          "base_uri": "https://localhost:8080/"
        },
        "id": "Oiwed0I5W6XC",
        "outputId": "72bc4cbb-4420-424d-b7d5-1e3546b0ff23"
      },
      "outputs": [
        {
          "output_type": "stream",
          "name": "stderr",
          "text": [
            "<ipython-input-37-ad1fa6f9fadc>:1: SettingWithCopyWarning: \n",
            "A value is trying to be set on a copy of a slice from a DataFrame.\n",
            "Try using .loc[row_indexer,col_indexer] = value instead\n",
            "\n",
            "See the caveats in the documentation: https://pandas.pydata.org/pandas-docs/stable/user_guide/indexing.html#returning-a-view-versus-a-copy\n",
            "  df_description_1['year'] = df_description_1['published_at'].dt.year\n"
          ]
        }
      ],
      "source": [
        "df_description_1['year'] = df_description_1['published_at'].dt.year"
      ]
    },
    {
      "cell_type": "code",
      "execution_count": 38,
      "metadata": {
        "colab": {
          "base_uri": "https://localhost:8080/"
        },
        "id": "vZ733QrVZTgB",
        "outputId": "da16a61e-d0b9-4e6b-8311-832f8931e2cf"
      },
      "outputs": [
        {
          "output_type": "execute_result",
          "data": {
            "text/plain": [
              "year\n",
              "2018      64\n",
              "2019     145\n",
              "2020     309\n",
              "2021     745\n",
              "2022     744\n",
              "2023    1591\n",
              "2024      64\n",
              "Name: name, dtype: int64"
            ]
          },
          "metadata": {},
          "execution_count": 38
        }
      ],
      "source": [
        "filtered_df_descr = df_description_1[df_description_1['type'] == 'dataset']\n",
        "\n",
        "# Perform groupby and count the unique names\n",
        "result2 = filtered_df_descr.groupby('year')['name'].count()\n",
        "result2"
      ]
    },
    {
      "cell_type": "code",
      "execution_count": 39,
      "metadata": {
        "id": "66MdkceSa8_d"
      },
      "outputs": [],
      "source": [
        "descr_year_type = df_description_1.groupby(['year', 'type'])['description'].nunique()"
      ]
    },
    {
      "cell_type": "code",
      "execution_count": 40,
      "metadata": {
        "id": "AD0pKR3jbPBt"
      },
      "outputs": [],
      "source": [
        "general_year_type = df.groupby(['year', 'type'])['name'].nunique()"
      ]
    },
    {
      "cell_type": "code",
      "execution_count": 41,
      "metadata": {
        "id": "lt1yhOfGMvUq"
      },
      "outputs": [],
      "source": [
        "df_year_type = pd.DataFrame(general_year_type)"
      ]
    },
    {
      "cell_type": "code",
      "execution_count": 42,
      "metadata": {
        "id": "DlGz_Ot8OeLI"
      },
      "outputs": [],
      "source": [
        "df_desc_y_t = pd.DataFrame(descr_year_type)"
      ]
    },
    {
      "cell_type": "code",
      "execution_count": 43,
      "metadata": {
        "id": "jB2vJgglOnxp"
      },
      "outputs": [],
      "source": [
        "df_year_type['with_description'] = df_desc_y_t['description']"
      ]
    },
    {
      "cell_type": "code",
      "execution_count": 44,
      "metadata": {
        "id": "tTuTjTK3OuuG"
      },
      "outputs": [],
      "source": [
        "df_year_type['description_score'] =  (df_year_type['with_description'] / df_year_type['name'])*100"
      ]
    },
    {
      "cell_type": "code",
      "execution_count": 45,
      "metadata": {
        "colab": {
          "base_uri": "https://localhost:8080/",
          "height": 740
        },
        "id": "E0-idde0Oxq_",
        "outputId": "ccee1da4-8b1c-456f-c85b-26c65a6c6a21"
      },
      "outputs": [
        {
          "output_type": "execute_result",
          "data": {
            "text/plain": [
              "                 name  with_description  description_score\n",
              "year type                                                 \n",
              "2018 dataset       64                59          92.187500\n",
              "     dataverse     67                70         104.477612\n",
              "     file         796               103          12.939698\n",
              "2019 dataset      145               145         100.000000\n",
              "     dataverse     26                21          80.769231\n",
              "     file        4156               376           9.047161\n",
              "2020 dataset      309               280          90.614887\n",
              "     dataverse     68                46          67.647059\n",
              "     file        3577               671          18.758736\n",
              "2021 dataset      743               741          99.730821\n",
              "     dataverse     67                39          58.208955\n",
              "     file        5374              1349          25.102345\n",
              "2022 dataset      743               741          99.730821\n",
              "     dataverse    201               113          56.218905\n",
              "     file       10980              1451          13.214936\n",
              "2023 dataset     1586              1539          97.036570\n",
              "     dataverse    281               218          77.580071\n",
              "     file       16129              2328          14.433629\n",
              "2024 dataset       64                64         100.000000\n",
              "     dataverse     23                23         100.000000\n",
              "     file        1019                68           6.673209"
            ],
            "text/html": [
              "\n",
              "  <div id=\"df-488b4634-40df-4da7-996e-f0f8be71a5ee\" class=\"colab-df-container\">\n",
              "    <div>\n",
              "<style scoped>\n",
              "    .dataframe tbody tr th:only-of-type {\n",
              "        vertical-align: middle;\n",
              "    }\n",
              "\n",
              "    .dataframe tbody tr th {\n",
              "        vertical-align: top;\n",
              "    }\n",
              "\n",
              "    .dataframe thead th {\n",
              "        text-align: right;\n",
              "    }\n",
              "</style>\n",
              "<table border=\"1\" class=\"dataframe\">\n",
              "  <thead>\n",
              "    <tr style=\"text-align: right;\">\n",
              "      <th></th>\n",
              "      <th></th>\n",
              "      <th>name</th>\n",
              "      <th>with_description</th>\n",
              "      <th>description_score</th>\n",
              "    </tr>\n",
              "    <tr>\n",
              "      <th>year</th>\n",
              "      <th>type</th>\n",
              "      <th></th>\n",
              "      <th></th>\n",
              "      <th></th>\n",
              "    </tr>\n",
              "  </thead>\n",
              "  <tbody>\n",
              "    <tr>\n",
              "      <th rowspan=\"3\" valign=\"top\">2018</th>\n",
              "      <th>dataset</th>\n",
              "      <td>64</td>\n",
              "      <td>59</td>\n",
              "      <td>92.187500</td>\n",
              "    </tr>\n",
              "    <tr>\n",
              "      <th>dataverse</th>\n",
              "      <td>67</td>\n",
              "      <td>70</td>\n",
              "      <td>104.477612</td>\n",
              "    </tr>\n",
              "    <tr>\n",
              "      <th>file</th>\n",
              "      <td>796</td>\n",
              "      <td>103</td>\n",
              "      <td>12.939698</td>\n",
              "    </tr>\n",
              "    <tr>\n",
              "      <th rowspan=\"3\" valign=\"top\">2019</th>\n",
              "      <th>dataset</th>\n",
              "      <td>145</td>\n",
              "      <td>145</td>\n",
              "      <td>100.000000</td>\n",
              "    </tr>\n",
              "    <tr>\n",
              "      <th>dataverse</th>\n",
              "      <td>26</td>\n",
              "      <td>21</td>\n",
              "      <td>80.769231</td>\n",
              "    </tr>\n",
              "    <tr>\n",
              "      <th>file</th>\n",
              "      <td>4156</td>\n",
              "      <td>376</td>\n",
              "      <td>9.047161</td>\n",
              "    </tr>\n",
              "    <tr>\n",
              "      <th rowspan=\"3\" valign=\"top\">2020</th>\n",
              "      <th>dataset</th>\n",
              "      <td>309</td>\n",
              "      <td>280</td>\n",
              "      <td>90.614887</td>\n",
              "    </tr>\n",
              "    <tr>\n",
              "      <th>dataverse</th>\n",
              "      <td>68</td>\n",
              "      <td>46</td>\n",
              "      <td>67.647059</td>\n",
              "    </tr>\n",
              "    <tr>\n",
              "      <th>file</th>\n",
              "      <td>3577</td>\n",
              "      <td>671</td>\n",
              "      <td>18.758736</td>\n",
              "    </tr>\n",
              "    <tr>\n",
              "      <th rowspan=\"3\" valign=\"top\">2021</th>\n",
              "      <th>dataset</th>\n",
              "      <td>743</td>\n",
              "      <td>741</td>\n",
              "      <td>99.730821</td>\n",
              "    </tr>\n",
              "    <tr>\n",
              "      <th>dataverse</th>\n",
              "      <td>67</td>\n",
              "      <td>39</td>\n",
              "      <td>58.208955</td>\n",
              "    </tr>\n",
              "    <tr>\n",
              "      <th>file</th>\n",
              "      <td>5374</td>\n",
              "      <td>1349</td>\n",
              "      <td>25.102345</td>\n",
              "    </tr>\n",
              "    <tr>\n",
              "      <th rowspan=\"3\" valign=\"top\">2022</th>\n",
              "      <th>dataset</th>\n",
              "      <td>743</td>\n",
              "      <td>741</td>\n",
              "      <td>99.730821</td>\n",
              "    </tr>\n",
              "    <tr>\n",
              "      <th>dataverse</th>\n",
              "      <td>201</td>\n",
              "      <td>113</td>\n",
              "      <td>56.218905</td>\n",
              "    </tr>\n",
              "    <tr>\n",
              "      <th>file</th>\n",
              "      <td>10980</td>\n",
              "      <td>1451</td>\n",
              "      <td>13.214936</td>\n",
              "    </tr>\n",
              "    <tr>\n",
              "      <th rowspan=\"3\" valign=\"top\">2023</th>\n",
              "      <th>dataset</th>\n",
              "      <td>1586</td>\n",
              "      <td>1539</td>\n",
              "      <td>97.036570</td>\n",
              "    </tr>\n",
              "    <tr>\n",
              "      <th>dataverse</th>\n",
              "      <td>281</td>\n",
              "      <td>218</td>\n",
              "      <td>77.580071</td>\n",
              "    </tr>\n",
              "    <tr>\n",
              "      <th>file</th>\n",
              "      <td>16129</td>\n",
              "      <td>2328</td>\n",
              "      <td>14.433629</td>\n",
              "    </tr>\n",
              "    <tr>\n",
              "      <th rowspan=\"3\" valign=\"top\">2024</th>\n",
              "      <th>dataset</th>\n",
              "      <td>64</td>\n",
              "      <td>64</td>\n",
              "      <td>100.000000</td>\n",
              "    </tr>\n",
              "    <tr>\n",
              "      <th>dataverse</th>\n",
              "      <td>23</td>\n",
              "      <td>23</td>\n",
              "      <td>100.000000</td>\n",
              "    </tr>\n",
              "    <tr>\n",
              "      <th>file</th>\n",
              "      <td>1019</td>\n",
              "      <td>68</td>\n",
              "      <td>6.673209</td>\n",
              "    </tr>\n",
              "  </tbody>\n",
              "</table>\n",
              "</div>\n",
              "    <div class=\"colab-df-buttons\">\n",
              "\n",
              "  <div class=\"colab-df-container\">\n",
              "    <button class=\"colab-df-convert\" onclick=\"convertToInteractive('df-488b4634-40df-4da7-996e-f0f8be71a5ee')\"\n",
              "            title=\"Convert this dataframe to an interactive table.\"\n",
              "            style=\"display:none;\">\n",
              "\n",
              "  <svg xmlns=\"http://www.w3.org/2000/svg\" height=\"24px\" viewBox=\"0 -960 960 960\">\n",
              "    <path d=\"M120-120v-720h720v720H120Zm60-500h600v-160H180v160Zm220 220h160v-160H400v160Zm0 220h160v-160H400v160ZM180-400h160v-160H180v160Zm440 0h160v-160H620v160ZM180-180h160v-160H180v160Zm440 0h160v-160H620v160Z\"/>\n",
              "  </svg>\n",
              "    </button>\n",
              "\n",
              "  <style>\n",
              "    .colab-df-container {\n",
              "      display:flex;\n",
              "      gap: 12px;\n",
              "    }\n",
              "\n",
              "    .colab-df-convert {\n",
              "      background-color: #E8F0FE;\n",
              "      border: none;\n",
              "      border-radius: 50%;\n",
              "      cursor: pointer;\n",
              "      display: none;\n",
              "      fill: #1967D2;\n",
              "      height: 32px;\n",
              "      padding: 0 0 0 0;\n",
              "      width: 32px;\n",
              "    }\n",
              "\n",
              "    .colab-df-convert:hover {\n",
              "      background-color: #E2EBFA;\n",
              "      box-shadow: 0px 1px 2px rgba(60, 64, 67, 0.3), 0px 1px 3px 1px rgba(60, 64, 67, 0.15);\n",
              "      fill: #174EA6;\n",
              "    }\n",
              "\n",
              "    .colab-df-buttons div {\n",
              "      margin-bottom: 4px;\n",
              "    }\n",
              "\n",
              "    [theme=dark] .colab-df-convert {\n",
              "      background-color: #3B4455;\n",
              "      fill: #D2E3FC;\n",
              "    }\n",
              "\n",
              "    [theme=dark] .colab-df-convert:hover {\n",
              "      background-color: #434B5C;\n",
              "      box-shadow: 0px 1px 3px 1px rgba(0, 0, 0, 0.15);\n",
              "      filter: drop-shadow(0px 1px 2px rgba(0, 0, 0, 0.3));\n",
              "      fill: #FFFFFF;\n",
              "    }\n",
              "  </style>\n",
              "\n",
              "    <script>\n",
              "      const buttonEl =\n",
              "        document.querySelector('#df-488b4634-40df-4da7-996e-f0f8be71a5ee button.colab-df-convert');\n",
              "      buttonEl.style.display =\n",
              "        google.colab.kernel.accessAllowed ? 'block' : 'none';\n",
              "\n",
              "      async function convertToInteractive(key) {\n",
              "        const element = document.querySelector('#df-488b4634-40df-4da7-996e-f0f8be71a5ee');\n",
              "        const dataTable =\n",
              "          await google.colab.kernel.invokeFunction('convertToInteractive',\n",
              "                                                    [key], {});\n",
              "        if (!dataTable) return;\n",
              "\n",
              "        const docLinkHtml = 'Like what you see? Visit the ' +\n",
              "          '<a target=\"_blank\" href=https://colab.research.google.com/notebooks/data_table.ipynb>data table notebook</a>'\n",
              "          + ' to learn more about interactive tables.';\n",
              "        element.innerHTML = '';\n",
              "        dataTable['output_type'] = 'display_data';\n",
              "        await google.colab.output.renderOutput(dataTable, element);\n",
              "        const docLink = document.createElement('div');\n",
              "        docLink.innerHTML = docLinkHtml;\n",
              "        element.appendChild(docLink);\n",
              "      }\n",
              "    </script>\n",
              "  </div>\n",
              "\n",
              "\n",
              "<div id=\"df-b2b62e49-7ae1-426b-a912-09357b0f197c\">\n",
              "  <button class=\"colab-df-quickchart\" onclick=\"quickchart('df-b2b62e49-7ae1-426b-a912-09357b0f197c')\"\n",
              "            title=\"Suggest charts\"\n",
              "            style=\"display:none;\">\n",
              "\n",
              "<svg xmlns=\"http://www.w3.org/2000/svg\" height=\"24px\"viewBox=\"0 0 24 24\"\n",
              "     width=\"24px\">\n",
              "    <g>\n",
              "        <path d=\"M19 3H5c-1.1 0-2 .9-2 2v14c0 1.1.9 2 2 2h14c1.1 0 2-.9 2-2V5c0-1.1-.9-2-2-2zM9 17H7v-7h2v7zm4 0h-2V7h2v10zm4 0h-2v-4h2v4z\"/>\n",
              "    </g>\n",
              "</svg>\n",
              "  </button>\n",
              "\n",
              "<style>\n",
              "  .colab-df-quickchart {\n",
              "      --bg-color: #E8F0FE;\n",
              "      --fill-color: #1967D2;\n",
              "      --hover-bg-color: #E2EBFA;\n",
              "      --hover-fill-color: #174EA6;\n",
              "      --disabled-fill-color: #AAA;\n",
              "      --disabled-bg-color: #DDD;\n",
              "  }\n",
              "\n",
              "  [theme=dark] .colab-df-quickchart {\n",
              "      --bg-color: #3B4455;\n",
              "      --fill-color: #D2E3FC;\n",
              "      --hover-bg-color: #434B5C;\n",
              "      --hover-fill-color: #FFFFFF;\n",
              "      --disabled-bg-color: #3B4455;\n",
              "      --disabled-fill-color: #666;\n",
              "  }\n",
              "\n",
              "  .colab-df-quickchart {\n",
              "    background-color: var(--bg-color);\n",
              "    border: none;\n",
              "    border-radius: 50%;\n",
              "    cursor: pointer;\n",
              "    display: none;\n",
              "    fill: var(--fill-color);\n",
              "    height: 32px;\n",
              "    padding: 0;\n",
              "    width: 32px;\n",
              "  }\n",
              "\n",
              "  .colab-df-quickchart:hover {\n",
              "    background-color: var(--hover-bg-color);\n",
              "    box-shadow: 0 1px 2px rgba(60, 64, 67, 0.3), 0 1px 3px 1px rgba(60, 64, 67, 0.15);\n",
              "    fill: var(--button-hover-fill-color);\n",
              "  }\n",
              "\n",
              "  .colab-df-quickchart-complete:disabled,\n",
              "  .colab-df-quickchart-complete:disabled:hover {\n",
              "    background-color: var(--disabled-bg-color);\n",
              "    fill: var(--disabled-fill-color);\n",
              "    box-shadow: none;\n",
              "  }\n",
              "\n",
              "  .colab-df-spinner {\n",
              "    border: 2px solid var(--fill-color);\n",
              "    border-color: transparent;\n",
              "    border-bottom-color: var(--fill-color);\n",
              "    animation:\n",
              "      spin 1s steps(1) infinite;\n",
              "  }\n",
              "\n",
              "  @keyframes spin {\n",
              "    0% {\n",
              "      border-color: transparent;\n",
              "      border-bottom-color: var(--fill-color);\n",
              "      border-left-color: var(--fill-color);\n",
              "    }\n",
              "    20% {\n",
              "      border-color: transparent;\n",
              "      border-left-color: var(--fill-color);\n",
              "      border-top-color: var(--fill-color);\n",
              "    }\n",
              "    30% {\n",
              "      border-color: transparent;\n",
              "      border-left-color: var(--fill-color);\n",
              "      border-top-color: var(--fill-color);\n",
              "      border-right-color: var(--fill-color);\n",
              "    }\n",
              "    40% {\n",
              "      border-color: transparent;\n",
              "      border-right-color: var(--fill-color);\n",
              "      border-top-color: var(--fill-color);\n",
              "    }\n",
              "    60% {\n",
              "      border-color: transparent;\n",
              "      border-right-color: var(--fill-color);\n",
              "    }\n",
              "    80% {\n",
              "      border-color: transparent;\n",
              "      border-right-color: var(--fill-color);\n",
              "      border-bottom-color: var(--fill-color);\n",
              "    }\n",
              "    90% {\n",
              "      border-color: transparent;\n",
              "      border-bottom-color: var(--fill-color);\n",
              "    }\n",
              "  }\n",
              "</style>\n",
              "\n",
              "  <script>\n",
              "    async function quickchart(key) {\n",
              "      const quickchartButtonEl =\n",
              "        document.querySelector('#' + key + ' button');\n",
              "      quickchartButtonEl.disabled = true;  // To prevent multiple clicks.\n",
              "      quickchartButtonEl.classList.add('colab-df-spinner');\n",
              "      try {\n",
              "        const charts = await google.colab.kernel.invokeFunction(\n",
              "            'suggestCharts', [key], {});\n",
              "      } catch (error) {\n",
              "        console.error('Error during call to suggestCharts:', error);\n",
              "      }\n",
              "      quickchartButtonEl.classList.remove('colab-df-spinner');\n",
              "      quickchartButtonEl.classList.add('colab-df-quickchart-complete');\n",
              "    }\n",
              "    (() => {\n",
              "      let quickchartButtonEl =\n",
              "        document.querySelector('#df-b2b62e49-7ae1-426b-a912-09357b0f197c button');\n",
              "      quickchartButtonEl.style.display =\n",
              "        google.colab.kernel.accessAllowed ? 'block' : 'none';\n",
              "    })();\n",
              "  </script>\n",
              "</div>\n",
              "    </div>\n",
              "  </div>\n"
            ]
          },
          "metadata": {},
          "execution_count": 45
        }
      ],
      "source": [
        "df_year_type"
      ]
    },
    {
      "cell_type": "code",
      "execution_count": null,
      "metadata": {
        "id": "5YxAfr7VP-US"
      },
      "outputs": [],
      "source": [
        "df_keywords['published_at'] = pd.to_datetime(df_keywords['published_at'])"
      ]
    },
    {
      "cell_type": "code",
      "execution_count": null,
      "metadata": {
        "id": "i3mM23ITQEef"
      },
      "outputs": [],
      "source": [
        "df_keywords['year'] = df_keywords['published_at'].dt.year"
      ]
    },
    {
      "cell_type": "code",
      "execution_count": 48,
      "metadata": {
        "id": "8388-AGyPwOK"
      },
      "outputs": [],
      "source": [
        "df_keywords = pd.DataFrame(df_keywords)"
      ]
    },
    {
      "cell_type": "code",
      "execution_count": 49,
      "metadata": {
        "id": "C9ahx5pnQRfh"
      },
      "outputs": [],
      "source": [
        "keywords_year_type = df_keywords.groupby(['year', 'type'])['keywords'].count()"
      ]
    },
    {
      "cell_type": "code",
      "execution_count": 50,
      "metadata": {
        "id": "nGqniJtZRekA"
      },
      "outputs": [],
      "source": [
        "df_kw_y_t = pd.DataFrame(keywords_year_type)"
      ]
    },
    {
      "cell_type": "code",
      "execution_count": 51,
      "metadata": {
        "id": "weyDpRtoRmos"
      },
      "outputs": [],
      "source": [
        "df_year_type['with_keywords'] = df_kw_y_t['keywords']"
      ]
    },
    {
      "cell_type": "code",
      "execution_count": 52,
      "metadata": {
        "id": "DUoc2NZLRwQJ"
      },
      "outputs": [],
      "source": [
        "df_year_type['keywords_score'] = (df_year_type['with_keywords'] / df_year_type['name'] ) * 100"
      ]
    },
    {
      "cell_type": "code",
      "execution_count": 53,
      "metadata": {
        "colab": {
          "base_uri": "https://localhost:8080/",
          "height": 740
        },
        "id": "kuqb7utHR-X7",
        "outputId": "a5d4f9d8-a3a4-4700-d032-486f2d861e02"
      },
      "outputs": [
        {
          "output_type": "execute_result",
          "data": {
            "text/plain": [
              "                 name  with_description  description_score  with_keywords  \\\n",
              "year type                                                                   \n",
              "2018 dataset       64                59          92.187500           37.0   \n",
              "     dataverse     67                70         104.477612            NaN   \n",
              "     file         796               103          12.939698            NaN   \n",
              "2019 dataset      145               145         100.000000           39.0   \n",
              "     dataverse     26                21          80.769231            NaN   \n",
              "     file        4156               376           9.047161            NaN   \n",
              "2020 dataset      309               280          90.614887          138.0   \n",
              "     dataverse     68                46          67.647059            NaN   \n",
              "     file        3577               671          18.758736            NaN   \n",
              "2021 dataset      743               741          99.730821          503.0   \n",
              "     dataverse     67                39          58.208955            NaN   \n",
              "     file        5374              1349          25.102345            NaN   \n",
              "2022 dataset      743               741          99.730821          575.0   \n",
              "     dataverse    201               113          56.218905            NaN   \n",
              "     file       10980              1451          13.214936            NaN   \n",
              "2023 dataset     1586              1539          97.036570         1292.0   \n",
              "     dataverse    281               218          77.580071            NaN   \n",
              "     file       16129              2328          14.433629            NaN   \n",
              "2024 dataset       64                64         100.000000           38.0   \n",
              "     dataverse     23                23         100.000000            NaN   \n",
              "     file        1019                68           6.673209            NaN   \n",
              "\n",
              "                keywords_score  \n",
              "year type                       \n",
              "2018 dataset         57.812500  \n",
              "     dataverse             NaN  \n",
              "     file                  NaN  \n",
              "2019 dataset         26.896552  \n",
              "     dataverse             NaN  \n",
              "     file                  NaN  \n",
              "2020 dataset         44.660194  \n",
              "     dataverse             NaN  \n",
              "     file                  NaN  \n",
              "2021 dataset         67.698520  \n",
              "     dataverse             NaN  \n",
              "     file                  NaN  \n",
              "2022 dataset         77.388964  \n",
              "     dataverse             NaN  \n",
              "     file                  NaN  \n",
              "2023 dataset         81.462799  \n",
              "     dataverse             NaN  \n",
              "     file                  NaN  \n",
              "2024 dataset         59.375000  \n",
              "     dataverse             NaN  \n",
              "     file                  NaN  "
            ],
            "text/html": [
              "\n",
              "  <div id=\"df-62c7de83-b6a3-4d1a-bf33-f5207e10a8a7\" class=\"colab-df-container\">\n",
              "    <div>\n",
              "<style scoped>\n",
              "    .dataframe tbody tr th:only-of-type {\n",
              "        vertical-align: middle;\n",
              "    }\n",
              "\n",
              "    .dataframe tbody tr th {\n",
              "        vertical-align: top;\n",
              "    }\n",
              "\n",
              "    .dataframe thead th {\n",
              "        text-align: right;\n",
              "    }\n",
              "</style>\n",
              "<table border=\"1\" class=\"dataframe\">\n",
              "  <thead>\n",
              "    <tr style=\"text-align: right;\">\n",
              "      <th></th>\n",
              "      <th></th>\n",
              "      <th>name</th>\n",
              "      <th>with_description</th>\n",
              "      <th>description_score</th>\n",
              "      <th>with_keywords</th>\n",
              "      <th>keywords_score</th>\n",
              "    </tr>\n",
              "    <tr>\n",
              "      <th>year</th>\n",
              "      <th>type</th>\n",
              "      <th></th>\n",
              "      <th></th>\n",
              "      <th></th>\n",
              "      <th></th>\n",
              "      <th></th>\n",
              "    </tr>\n",
              "  </thead>\n",
              "  <tbody>\n",
              "    <tr>\n",
              "      <th rowspan=\"3\" valign=\"top\">2018</th>\n",
              "      <th>dataset</th>\n",
              "      <td>64</td>\n",
              "      <td>59</td>\n",
              "      <td>92.187500</td>\n",
              "      <td>37.0</td>\n",
              "      <td>57.812500</td>\n",
              "    </tr>\n",
              "    <tr>\n",
              "      <th>dataverse</th>\n",
              "      <td>67</td>\n",
              "      <td>70</td>\n",
              "      <td>104.477612</td>\n",
              "      <td>NaN</td>\n",
              "      <td>NaN</td>\n",
              "    </tr>\n",
              "    <tr>\n",
              "      <th>file</th>\n",
              "      <td>796</td>\n",
              "      <td>103</td>\n",
              "      <td>12.939698</td>\n",
              "      <td>NaN</td>\n",
              "      <td>NaN</td>\n",
              "    </tr>\n",
              "    <tr>\n",
              "      <th rowspan=\"3\" valign=\"top\">2019</th>\n",
              "      <th>dataset</th>\n",
              "      <td>145</td>\n",
              "      <td>145</td>\n",
              "      <td>100.000000</td>\n",
              "      <td>39.0</td>\n",
              "      <td>26.896552</td>\n",
              "    </tr>\n",
              "    <tr>\n",
              "      <th>dataverse</th>\n",
              "      <td>26</td>\n",
              "      <td>21</td>\n",
              "      <td>80.769231</td>\n",
              "      <td>NaN</td>\n",
              "      <td>NaN</td>\n",
              "    </tr>\n",
              "    <tr>\n",
              "      <th>file</th>\n",
              "      <td>4156</td>\n",
              "      <td>376</td>\n",
              "      <td>9.047161</td>\n",
              "      <td>NaN</td>\n",
              "      <td>NaN</td>\n",
              "    </tr>\n",
              "    <tr>\n",
              "      <th rowspan=\"3\" valign=\"top\">2020</th>\n",
              "      <th>dataset</th>\n",
              "      <td>309</td>\n",
              "      <td>280</td>\n",
              "      <td>90.614887</td>\n",
              "      <td>138.0</td>\n",
              "      <td>44.660194</td>\n",
              "    </tr>\n",
              "    <tr>\n",
              "      <th>dataverse</th>\n",
              "      <td>68</td>\n",
              "      <td>46</td>\n",
              "      <td>67.647059</td>\n",
              "      <td>NaN</td>\n",
              "      <td>NaN</td>\n",
              "    </tr>\n",
              "    <tr>\n",
              "      <th>file</th>\n",
              "      <td>3577</td>\n",
              "      <td>671</td>\n",
              "      <td>18.758736</td>\n",
              "      <td>NaN</td>\n",
              "      <td>NaN</td>\n",
              "    </tr>\n",
              "    <tr>\n",
              "      <th rowspan=\"3\" valign=\"top\">2021</th>\n",
              "      <th>dataset</th>\n",
              "      <td>743</td>\n",
              "      <td>741</td>\n",
              "      <td>99.730821</td>\n",
              "      <td>503.0</td>\n",
              "      <td>67.698520</td>\n",
              "    </tr>\n",
              "    <tr>\n",
              "      <th>dataverse</th>\n",
              "      <td>67</td>\n",
              "      <td>39</td>\n",
              "      <td>58.208955</td>\n",
              "      <td>NaN</td>\n",
              "      <td>NaN</td>\n",
              "    </tr>\n",
              "    <tr>\n",
              "      <th>file</th>\n",
              "      <td>5374</td>\n",
              "      <td>1349</td>\n",
              "      <td>25.102345</td>\n",
              "      <td>NaN</td>\n",
              "      <td>NaN</td>\n",
              "    </tr>\n",
              "    <tr>\n",
              "      <th rowspan=\"3\" valign=\"top\">2022</th>\n",
              "      <th>dataset</th>\n",
              "      <td>743</td>\n",
              "      <td>741</td>\n",
              "      <td>99.730821</td>\n",
              "      <td>575.0</td>\n",
              "      <td>77.388964</td>\n",
              "    </tr>\n",
              "    <tr>\n",
              "      <th>dataverse</th>\n",
              "      <td>201</td>\n",
              "      <td>113</td>\n",
              "      <td>56.218905</td>\n",
              "      <td>NaN</td>\n",
              "      <td>NaN</td>\n",
              "    </tr>\n",
              "    <tr>\n",
              "      <th>file</th>\n",
              "      <td>10980</td>\n",
              "      <td>1451</td>\n",
              "      <td>13.214936</td>\n",
              "      <td>NaN</td>\n",
              "      <td>NaN</td>\n",
              "    </tr>\n",
              "    <tr>\n",
              "      <th rowspan=\"3\" valign=\"top\">2023</th>\n",
              "      <th>dataset</th>\n",
              "      <td>1586</td>\n",
              "      <td>1539</td>\n",
              "      <td>97.036570</td>\n",
              "      <td>1292.0</td>\n",
              "      <td>81.462799</td>\n",
              "    </tr>\n",
              "    <tr>\n",
              "      <th>dataverse</th>\n",
              "      <td>281</td>\n",
              "      <td>218</td>\n",
              "      <td>77.580071</td>\n",
              "      <td>NaN</td>\n",
              "      <td>NaN</td>\n",
              "    </tr>\n",
              "    <tr>\n",
              "      <th>file</th>\n",
              "      <td>16129</td>\n",
              "      <td>2328</td>\n",
              "      <td>14.433629</td>\n",
              "      <td>NaN</td>\n",
              "      <td>NaN</td>\n",
              "    </tr>\n",
              "    <tr>\n",
              "      <th rowspan=\"3\" valign=\"top\">2024</th>\n",
              "      <th>dataset</th>\n",
              "      <td>64</td>\n",
              "      <td>64</td>\n",
              "      <td>100.000000</td>\n",
              "      <td>38.0</td>\n",
              "      <td>59.375000</td>\n",
              "    </tr>\n",
              "    <tr>\n",
              "      <th>dataverse</th>\n",
              "      <td>23</td>\n",
              "      <td>23</td>\n",
              "      <td>100.000000</td>\n",
              "      <td>NaN</td>\n",
              "      <td>NaN</td>\n",
              "    </tr>\n",
              "    <tr>\n",
              "      <th>file</th>\n",
              "      <td>1019</td>\n",
              "      <td>68</td>\n",
              "      <td>6.673209</td>\n",
              "      <td>NaN</td>\n",
              "      <td>NaN</td>\n",
              "    </tr>\n",
              "  </tbody>\n",
              "</table>\n",
              "</div>\n",
              "    <div class=\"colab-df-buttons\">\n",
              "\n",
              "  <div class=\"colab-df-container\">\n",
              "    <button class=\"colab-df-convert\" onclick=\"convertToInteractive('df-62c7de83-b6a3-4d1a-bf33-f5207e10a8a7')\"\n",
              "            title=\"Convert this dataframe to an interactive table.\"\n",
              "            style=\"display:none;\">\n",
              "\n",
              "  <svg xmlns=\"http://www.w3.org/2000/svg\" height=\"24px\" viewBox=\"0 -960 960 960\">\n",
              "    <path d=\"M120-120v-720h720v720H120Zm60-500h600v-160H180v160Zm220 220h160v-160H400v160Zm0 220h160v-160H400v160ZM180-400h160v-160H180v160Zm440 0h160v-160H620v160ZM180-180h160v-160H180v160Zm440 0h160v-160H620v160Z\"/>\n",
              "  </svg>\n",
              "    </button>\n",
              "\n",
              "  <style>\n",
              "    .colab-df-container {\n",
              "      display:flex;\n",
              "      gap: 12px;\n",
              "    }\n",
              "\n",
              "    .colab-df-convert {\n",
              "      background-color: #E8F0FE;\n",
              "      border: none;\n",
              "      border-radius: 50%;\n",
              "      cursor: pointer;\n",
              "      display: none;\n",
              "      fill: #1967D2;\n",
              "      height: 32px;\n",
              "      padding: 0 0 0 0;\n",
              "      width: 32px;\n",
              "    }\n",
              "\n",
              "    .colab-df-convert:hover {\n",
              "      background-color: #E2EBFA;\n",
              "      box-shadow: 0px 1px 2px rgba(60, 64, 67, 0.3), 0px 1px 3px 1px rgba(60, 64, 67, 0.15);\n",
              "      fill: #174EA6;\n",
              "    }\n",
              "\n",
              "    .colab-df-buttons div {\n",
              "      margin-bottom: 4px;\n",
              "    }\n",
              "\n",
              "    [theme=dark] .colab-df-convert {\n",
              "      background-color: #3B4455;\n",
              "      fill: #D2E3FC;\n",
              "    }\n",
              "\n",
              "    [theme=dark] .colab-df-convert:hover {\n",
              "      background-color: #434B5C;\n",
              "      box-shadow: 0px 1px 3px 1px rgba(0, 0, 0, 0.15);\n",
              "      filter: drop-shadow(0px 1px 2px rgba(0, 0, 0, 0.3));\n",
              "      fill: #FFFFFF;\n",
              "    }\n",
              "  </style>\n",
              "\n",
              "    <script>\n",
              "      const buttonEl =\n",
              "        document.querySelector('#df-62c7de83-b6a3-4d1a-bf33-f5207e10a8a7 button.colab-df-convert');\n",
              "      buttonEl.style.display =\n",
              "        google.colab.kernel.accessAllowed ? 'block' : 'none';\n",
              "\n",
              "      async function convertToInteractive(key) {\n",
              "        const element = document.querySelector('#df-62c7de83-b6a3-4d1a-bf33-f5207e10a8a7');\n",
              "        const dataTable =\n",
              "          await google.colab.kernel.invokeFunction('convertToInteractive',\n",
              "                                                    [key], {});\n",
              "        if (!dataTable) return;\n",
              "\n",
              "        const docLinkHtml = 'Like what you see? Visit the ' +\n",
              "          '<a target=\"_blank\" href=https://colab.research.google.com/notebooks/data_table.ipynb>data table notebook</a>'\n",
              "          + ' to learn more about interactive tables.';\n",
              "        element.innerHTML = '';\n",
              "        dataTable['output_type'] = 'display_data';\n",
              "        await google.colab.output.renderOutput(dataTable, element);\n",
              "        const docLink = document.createElement('div');\n",
              "        docLink.innerHTML = docLinkHtml;\n",
              "        element.appendChild(docLink);\n",
              "      }\n",
              "    </script>\n",
              "  </div>\n",
              "\n",
              "\n",
              "<div id=\"df-787e6c27-a629-4741-8e85-5202bcab031b\">\n",
              "  <button class=\"colab-df-quickchart\" onclick=\"quickchart('df-787e6c27-a629-4741-8e85-5202bcab031b')\"\n",
              "            title=\"Suggest charts\"\n",
              "            style=\"display:none;\">\n",
              "\n",
              "<svg xmlns=\"http://www.w3.org/2000/svg\" height=\"24px\"viewBox=\"0 0 24 24\"\n",
              "     width=\"24px\">\n",
              "    <g>\n",
              "        <path d=\"M19 3H5c-1.1 0-2 .9-2 2v14c0 1.1.9 2 2 2h14c1.1 0 2-.9 2-2V5c0-1.1-.9-2-2-2zM9 17H7v-7h2v7zm4 0h-2V7h2v10zm4 0h-2v-4h2v4z\"/>\n",
              "    </g>\n",
              "</svg>\n",
              "  </button>\n",
              "\n",
              "<style>\n",
              "  .colab-df-quickchart {\n",
              "      --bg-color: #E8F0FE;\n",
              "      --fill-color: #1967D2;\n",
              "      --hover-bg-color: #E2EBFA;\n",
              "      --hover-fill-color: #174EA6;\n",
              "      --disabled-fill-color: #AAA;\n",
              "      --disabled-bg-color: #DDD;\n",
              "  }\n",
              "\n",
              "  [theme=dark] .colab-df-quickchart {\n",
              "      --bg-color: #3B4455;\n",
              "      --fill-color: #D2E3FC;\n",
              "      --hover-bg-color: #434B5C;\n",
              "      --hover-fill-color: #FFFFFF;\n",
              "      --disabled-bg-color: #3B4455;\n",
              "      --disabled-fill-color: #666;\n",
              "  }\n",
              "\n",
              "  .colab-df-quickchart {\n",
              "    background-color: var(--bg-color);\n",
              "    border: none;\n",
              "    border-radius: 50%;\n",
              "    cursor: pointer;\n",
              "    display: none;\n",
              "    fill: var(--fill-color);\n",
              "    height: 32px;\n",
              "    padding: 0;\n",
              "    width: 32px;\n",
              "  }\n",
              "\n",
              "  .colab-df-quickchart:hover {\n",
              "    background-color: var(--hover-bg-color);\n",
              "    box-shadow: 0 1px 2px rgba(60, 64, 67, 0.3), 0 1px 3px 1px rgba(60, 64, 67, 0.15);\n",
              "    fill: var(--button-hover-fill-color);\n",
              "  }\n",
              "\n",
              "  .colab-df-quickchart-complete:disabled,\n",
              "  .colab-df-quickchart-complete:disabled:hover {\n",
              "    background-color: var(--disabled-bg-color);\n",
              "    fill: var(--disabled-fill-color);\n",
              "    box-shadow: none;\n",
              "  }\n",
              "\n",
              "  .colab-df-spinner {\n",
              "    border: 2px solid var(--fill-color);\n",
              "    border-color: transparent;\n",
              "    border-bottom-color: var(--fill-color);\n",
              "    animation:\n",
              "      spin 1s steps(1) infinite;\n",
              "  }\n",
              "\n",
              "  @keyframes spin {\n",
              "    0% {\n",
              "      border-color: transparent;\n",
              "      border-bottom-color: var(--fill-color);\n",
              "      border-left-color: var(--fill-color);\n",
              "    }\n",
              "    20% {\n",
              "      border-color: transparent;\n",
              "      border-left-color: var(--fill-color);\n",
              "      border-top-color: var(--fill-color);\n",
              "    }\n",
              "    30% {\n",
              "      border-color: transparent;\n",
              "      border-left-color: var(--fill-color);\n",
              "      border-top-color: var(--fill-color);\n",
              "      border-right-color: var(--fill-color);\n",
              "    }\n",
              "    40% {\n",
              "      border-color: transparent;\n",
              "      border-right-color: var(--fill-color);\n",
              "      border-top-color: var(--fill-color);\n",
              "    }\n",
              "    60% {\n",
              "      border-color: transparent;\n",
              "      border-right-color: var(--fill-color);\n",
              "    }\n",
              "    80% {\n",
              "      border-color: transparent;\n",
              "      border-right-color: var(--fill-color);\n",
              "      border-bottom-color: var(--fill-color);\n",
              "    }\n",
              "    90% {\n",
              "      border-color: transparent;\n",
              "      border-bottom-color: var(--fill-color);\n",
              "    }\n",
              "  }\n",
              "</style>\n",
              "\n",
              "  <script>\n",
              "    async function quickchart(key) {\n",
              "      const quickchartButtonEl =\n",
              "        document.querySelector('#' + key + ' button');\n",
              "      quickchartButtonEl.disabled = true;  // To prevent multiple clicks.\n",
              "      quickchartButtonEl.classList.add('colab-df-spinner');\n",
              "      try {\n",
              "        const charts = await google.colab.kernel.invokeFunction(\n",
              "            'suggestCharts', [key], {});\n",
              "      } catch (error) {\n",
              "        console.error('Error during call to suggestCharts:', error);\n",
              "      }\n",
              "      quickchartButtonEl.classList.remove('colab-df-spinner');\n",
              "      quickchartButtonEl.classList.add('colab-df-quickchart-complete');\n",
              "    }\n",
              "    (() => {\n",
              "      let quickchartButtonEl =\n",
              "        document.querySelector('#df-787e6c27-a629-4741-8e85-5202bcab031b button');\n",
              "      quickchartButtonEl.style.display =\n",
              "        google.colab.kernel.accessAllowed ? 'block' : 'none';\n",
              "    })();\n",
              "  </script>\n",
              "</div>\n",
              "    </div>\n",
              "  </div>\n"
            ]
          },
          "metadata": {},
          "execution_count": 53
        }
      ],
      "source": [
        "df_year_type"
      ]
    },
    {
      "cell_type": "code",
      "execution_count": 54,
      "metadata": {
        "id": "DmIhReqtSYGb"
      },
      "outputs": [],
      "source": [
        "df_year_type['score'] = (df_year_type['description_score'] + df_year_type['keywords_score'])/2"
      ]
    },
    {
      "cell_type": "code",
      "execution_count": 55,
      "metadata": {
        "colab": {
          "base_uri": "https://localhost:8080/",
          "height": 740
        },
        "id": "dS4dRVuFStRy",
        "outputId": "c34a269f-e012-4956-b95f-4843f1098f12"
      },
      "outputs": [
        {
          "output_type": "execute_result",
          "data": {
            "text/plain": [
              "                 name  with_description  description_score  with_keywords  \\\n",
              "year type                                                                   \n",
              "2018 dataset       64                59          92.187500           37.0   \n",
              "     dataverse     67                70         104.477612            NaN   \n",
              "     file         796               103          12.939698            NaN   \n",
              "2019 dataset      145               145         100.000000           39.0   \n",
              "     dataverse     26                21          80.769231            NaN   \n",
              "     file        4156               376           9.047161            NaN   \n",
              "2020 dataset      309               280          90.614887          138.0   \n",
              "     dataverse     68                46          67.647059            NaN   \n",
              "     file        3577               671          18.758736            NaN   \n",
              "2021 dataset      743               741          99.730821          503.0   \n",
              "     dataverse     67                39          58.208955            NaN   \n",
              "     file        5374              1349          25.102345            NaN   \n",
              "2022 dataset      743               741          99.730821          575.0   \n",
              "     dataverse    201               113          56.218905            NaN   \n",
              "     file       10980              1451          13.214936            NaN   \n",
              "2023 dataset     1586              1539          97.036570         1292.0   \n",
              "     dataverse    281               218          77.580071            NaN   \n",
              "     file       16129              2328          14.433629            NaN   \n",
              "2024 dataset       64                64         100.000000           38.0   \n",
              "     dataverse     23                23         100.000000            NaN   \n",
              "     file        1019                68           6.673209            NaN   \n",
              "\n",
              "                keywords_score      score  \n",
              "year type                                  \n",
              "2018 dataset         57.812500  75.000000  \n",
              "     dataverse             NaN        NaN  \n",
              "     file                  NaN        NaN  \n",
              "2019 dataset         26.896552  63.448276  \n",
              "     dataverse             NaN        NaN  \n",
              "     file                  NaN        NaN  \n",
              "2020 dataset         44.660194  67.637540  \n",
              "     dataverse             NaN        NaN  \n",
              "     file                  NaN        NaN  \n",
              "2021 dataset         67.698520  83.714670  \n",
              "     dataverse             NaN        NaN  \n",
              "     file                  NaN        NaN  \n",
              "2022 dataset         77.388964  88.559892  \n",
              "     dataverse             NaN        NaN  \n",
              "     file                  NaN        NaN  \n",
              "2023 dataset         81.462799  89.249685  \n",
              "     dataverse             NaN        NaN  \n",
              "     file                  NaN        NaN  \n",
              "2024 dataset         59.375000  79.687500  \n",
              "     dataverse             NaN        NaN  \n",
              "     file                  NaN        NaN  "
            ],
            "text/html": [
              "\n",
              "  <div id=\"df-837fd305-3f2a-441f-9ad6-59e333b67cf5\" class=\"colab-df-container\">\n",
              "    <div>\n",
              "<style scoped>\n",
              "    .dataframe tbody tr th:only-of-type {\n",
              "        vertical-align: middle;\n",
              "    }\n",
              "\n",
              "    .dataframe tbody tr th {\n",
              "        vertical-align: top;\n",
              "    }\n",
              "\n",
              "    .dataframe thead th {\n",
              "        text-align: right;\n",
              "    }\n",
              "</style>\n",
              "<table border=\"1\" class=\"dataframe\">\n",
              "  <thead>\n",
              "    <tr style=\"text-align: right;\">\n",
              "      <th></th>\n",
              "      <th></th>\n",
              "      <th>name</th>\n",
              "      <th>with_description</th>\n",
              "      <th>description_score</th>\n",
              "      <th>with_keywords</th>\n",
              "      <th>keywords_score</th>\n",
              "      <th>score</th>\n",
              "    </tr>\n",
              "    <tr>\n",
              "      <th>year</th>\n",
              "      <th>type</th>\n",
              "      <th></th>\n",
              "      <th></th>\n",
              "      <th></th>\n",
              "      <th></th>\n",
              "      <th></th>\n",
              "      <th></th>\n",
              "    </tr>\n",
              "  </thead>\n",
              "  <tbody>\n",
              "    <tr>\n",
              "      <th rowspan=\"3\" valign=\"top\">2018</th>\n",
              "      <th>dataset</th>\n",
              "      <td>64</td>\n",
              "      <td>59</td>\n",
              "      <td>92.187500</td>\n",
              "      <td>37.0</td>\n",
              "      <td>57.812500</td>\n",
              "      <td>75.000000</td>\n",
              "    </tr>\n",
              "    <tr>\n",
              "      <th>dataverse</th>\n",
              "      <td>67</td>\n",
              "      <td>70</td>\n",
              "      <td>104.477612</td>\n",
              "      <td>NaN</td>\n",
              "      <td>NaN</td>\n",
              "      <td>NaN</td>\n",
              "    </tr>\n",
              "    <tr>\n",
              "      <th>file</th>\n",
              "      <td>796</td>\n",
              "      <td>103</td>\n",
              "      <td>12.939698</td>\n",
              "      <td>NaN</td>\n",
              "      <td>NaN</td>\n",
              "      <td>NaN</td>\n",
              "    </tr>\n",
              "    <tr>\n",
              "      <th rowspan=\"3\" valign=\"top\">2019</th>\n",
              "      <th>dataset</th>\n",
              "      <td>145</td>\n",
              "      <td>145</td>\n",
              "      <td>100.000000</td>\n",
              "      <td>39.0</td>\n",
              "      <td>26.896552</td>\n",
              "      <td>63.448276</td>\n",
              "    </tr>\n",
              "    <tr>\n",
              "      <th>dataverse</th>\n",
              "      <td>26</td>\n",
              "      <td>21</td>\n",
              "      <td>80.769231</td>\n",
              "      <td>NaN</td>\n",
              "      <td>NaN</td>\n",
              "      <td>NaN</td>\n",
              "    </tr>\n",
              "    <tr>\n",
              "      <th>file</th>\n",
              "      <td>4156</td>\n",
              "      <td>376</td>\n",
              "      <td>9.047161</td>\n",
              "      <td>NaN</td>\n",
              "      <td>NaN</td>\n",
              "      <td>NaN</td>\n",
              "    </tr>\n",
              "    <tr>\n",
              "      <th rowspan=\"3\" valign=\"top\">2020</th>\n",
              "      <th>dataset</th>\n",
              "      <td>309</td>\n",
              "      <td>280</td>\n",
              "      <td>90.614887</td>\n",
              "      <td>138.0</td>\n",
              "      <td>44.660194</td>\n",
              "      <td>67.637540</td>\n",
              "    </tr>\n",
              "    <tr>\n",
              "      <th>dataverse</th>\n",
              "      <td>68</td>\n",
              "      <td>46</td>\n",
              "      <td>67.647059</td>\n",
              "      <td>NaN</td>\n",
              "      <td>NaN</td>\n",
              "      <td>NaN</td>\n",
              "    </tr>\n",
              "    <tr>\n",
              "      <th>file</th>\n",
              "      <td>3577</td>\n",
              "      <td>671</td>\n",
              "      <td>18.758736</td>\n",
              "      <td>NaN</td>\n",
              "      <td>NaN</td>\n",
              "      <td>NaN</td>\n",
              "    </tr>\n",
              "    <tr>\n",
              "      <th rowspan=\"3\" valign=\"top\">2021</th>\n",
              "      <th>dataset</th>\n",
              "      <td>743</td>\n",
              "      <td>741</td>\n",
              "      <td>99.730821</td>\n",
              "      <td>503.0</td>\n",
              "      <td>67.698520</td>\n",
              "      <td>83.714670</td>\n",
              "    </tr>\n",
              "    <tr>\n",
              "      <th>dataverse</th>\n",
              "      <td>67</td>\n",
              "      <td>39</td>\n",
              "      <td>58.208955</td>\n",
              "      <td>NaN</td>\n",
              "      <td>NaN</td>\n",
              "      <td>NaN</td>\n",
              "    </tr>\n",
              "    <tr>\n",
              "      <th>file</th>\n",
              "      <td>5374</td>\n",
              "      <td>1349</td>\n",
              "      <td>25.102345</td>\n",
              "      <td>NaN</td>\n",
              "      <td>NaN</td>\n",
              "      <td>NaN</td>\n",
              "    </tr>\n",
              "    <tr>\n",
              "      <th rowspan=\"3\" valign=\"top\">2022</th>\n",
              "      <th>dataset</th>\n",
              "      <td>743</td>\n",
              "      <td>741</td>\n",
              "      <td>99.730821</td>\n",
              "      <td>575.0</td>\n",
              "      <td>77.388964</td>\n",
              "      <td>88.559892</td>\n",
              "    </tr>\n",
              "    <tr>\n",
              "      <th>dataverse</th>\n",
              "      <td>201</td>\n",
              "      <td>113</td>\n",
              "      <td>56.218905</td>\n",
              "      <td>NaN</td>\n",
              "      <td>NaN</td>\n",
              "      <td>NaN</td>\n",
              "    </tr>\n",
              "    <tr>\n",
              "      <th>file</th>\n",
              "      <td>10980</td>\n",
              "      <td>1451</td>\n",
              "      <td>13.214936</td>\n",
              "      <td>NaN</td>\n",
              "      <td>NaN</td>\n",
              "      <td>NaN</td>\n",
              "    </tr>\n",
              "    <tr>\n",
              "      <th rowspan=\"3\" valign=\"top\">2023</th>\n",
              "      <th>dataset</th>\n",
              "      <td>1586</td>\n",
              "      <td>1539</td>\n",
              "      <td>97.036570</td>\n",
              "      <td>1292.0</td>\n",
              "      <td>81.462799</td>\n",
              "      <td>89.249685</td>\n",
              "    </tr>\n",
              "    <tr>\n",
              "      <th>dataverse</th>\n",
              "      <td>281</td>\n",
              "      <td>218</td>\n",
              "      <td>77.580071</td>\n",
              "      <td>NaN</td>\n",
              "      <td>NaN</td>\n",
              "      <td>NaN</td>\n",
              "    </tr>\n",
              "    <tr>\n",
              "      <th>file</th>\n",
              "      <td>16129</td>\n",
              "      <td>2328</td>\n",
              "      <td>14.433629</td>\n",
              "      <td>NaN</td>\n",
              "      <td>NaN</td>\n",
              "      <td>NaN</td>\n",
              "    </tr>\n",
              "    <tr>\n",
              "      <th rowspan=\"3\" valign=\"top\">2024</th>\n",
              "      <th>dataset</th>\n",
              "      <td>64</td>\n",
              "      <td>64</td>\n",
              "      <td>100.000000</td>\n",
              "      <td>38.0</td>\n",
              "      <td>59.375000</td>\n",
              "      <td>79.687500</td>\n",
              "    </tr>\n",
              "    <tr>\n",
              "      <th>dataverse</th>\n",
              "      <td>23</td>\n",
              "      <td>23</td>\n",
              "      <td>100.000000</td>\n",
              "      <td>NaN</td>\n",
              "      <td>NaN</td>\n",
              "      <td>NaN</td>\n",
              "    </tr>\n",
              "    <tr>\n",
              "      <th>file</th>\n",
              "      <td>1019</td>\n",
              "      <td>68</td>\n",
              "      <td>6.673209</td>\n",
              "      <td>NaN</td>\n",
              "      <td>NaN</td>\n",
              "      <td>NaN</td>\n",
              "    </tr>\n",
              "  </tbody>\n",
              "</table>\n",
              "</div>\n",
              "    <div class=\"colab-df-buttons\">\n",
              "\n",
              "  <div class=\"colab-df-container\">\n",
              "    <button class=\"colab-df-convert\" onclick=\"convertToInteractive('df-837fd305-3f2a-441f-9ad6-59e333b67cf5')\"\n",
              "            title=\"Convert this dataframe to an interactive table.\"\n",
              "            style=\"display:none;\">\n",
              "\n",
              "  <svg xmlns=\"http://www.w3.org/2000/svg\" height=\"24px\" viewBox=\"0 -960 960 960\">\n",
              "    <path d=\"M120-120v-720h720v720H120Zm60-500h600v-160H180v160Zm220 220h160v-160H400v160Zm0 220h160v-160H400v160ZM180-400h160v-160H180v160Zm440 0h160v-160H620v160ZM180-180h160v-160H180v160Zm440 0h160v-160H620v160Z\"/>\n",
              "  </svg>\n",
              "    </button>\n",
              "\n",
              "  <style>\n",
              "    .colab-df-container {\n",
              "      display:flex;\n",
              "      gap: 12px;\n",
              "    }\n",
              "\n",
              "    .colab-df-convert {\n",
              "      background-color: #E8F0FE;\n",
              "      border: none;\n",
              "      border-radius: 50%;\n",
              "      cursor: pointer;\n",
              "      display: none;\n",
              "      fill: #1967D2;\n",
              "      height: 32px;\n",
              "      padding: 0 0 0 0;\n",
              "      width: 32px;\n",
              "    }\n",
              "\n",
              "    .colab-df-convert:hover {\n",
              "      background-color: #E2EBFA;\n",
              "      box-shadow: 0px 1px 2px rgba(60, 64, 67, 0.3), 0px 1px 3px 1px rgba(60, 64, 67, 0.15);\n",
              "      fill: #174EA6;\n",
              "    }\n",
              "\n",
              "    .colab-df-buttons div {\n",
              "      margin-bottom: 4px;\n",
              "    }\n",
              "\n",
              "    [theme=dark] .colab-df-convert {\n",
              "      background-color: #3B4455;\n",
              "      fill: #D2E3FC;\n",
              "    }\n",
              "\n",
              "    [theme=dark] .colab-df-convert:hover {\n",
              "      background-color: #434B5C;\n",
              "      box-shadow: 0px 1px 3px 1px rgba(0, 0, 0, 0.15);\n",
              "      filter: drop-shadow(0px 1px 2px rgba(0, 0, 0, 0.3));\n",
              "      fill: #FFFFFF;\n",
              "    }\n",
              "  </style>\n",
              "\n",
              "    <script>\n",
              "      const buttonEl =\n",
              "        document.querySelector('#df-837fd305-3f2a-441f-9ad6-59e333b67cf5 button.colab-df-convert');\n",
              "      buttonEl.style.display =\n",
              "        google.colab.kernel.accessAllowed ? 'block' : 'none';\n",
              "\n",
              "      async function convertToInteractive(key) {\n",
              "        const element = document.querySelector('#df-837fd305-3f2a-441f-9ad6-59e333b67cf5');\n",
              "        const dataTable =\n",
              "          await google.colab.kernel.invokeFunction('convertToInteractive',\n",
              "                                                    [key], {});\n",
              "        if (!dataTable) return;\n",
              "\n",
              "        const docLinkHtml = 'Like what you see? Visit the ' +\n",
              "          '<a target=\"_blank\" href=https://colab.research.google.com/notebooks/data_table.ipynb>data table notebook</a>'\n",
              "          + ' to learn more about interactive tables.';\n",
              "        element.innerHTML = '';\n",
              "        dataTable['output_type'] = 'display_data';\n",
              "        await google.colab.output.renderOutput(dataTable, element);\n",
              "        const docLink = document.createElement('div');\n",
              "        docLink.innerHTML = docLinkHtml;\n",
              "        element.appendChild(docLink);\n",
              "      }\n",
              "    </script>\n",
              "  </div>\n",
              "\n",
              "\n",
              "<div id=\"df-bec3a5e0-35d6-42f1-8472-fe04d8009e23\">\n",
              "  <button class=\"colab-df-quickchart\" onclick=\"quickchart('df-bec3a5e0-35d6-42f1-8472-fe04d8009e23')\"\n",
              "            title=\"Suggest charts\"\n",
              "            style=\"display:none;\">\n",
              "\n",
              "<svg xmlns=\"http://www.w3.org/2000/svg\" height=\"24px\"viewBox=\"0 0 24 24\"\n",
              "     width=\"24px\">\n",
              "    <g>\n",
              "        <path d=\"M19 3H5c-1.1 0-2 .9-2 2v14c0 1.1.9 2 2 2h14c1.1 0 2-.9 2-2V5c0-1.1-.9-2-2-2zM9 17H7v-7h2v7zm4 0h-2V7h2v10zm4 0h-2v-4h2v4z\"/>\n",
              "    </g>\n",
              "</svg>\n",
              "  </button>\n",
              "\n",
              "<style>\n",
              "  .colab-df-quickchart {\n",
              "      --bg-color: #E8F0FE;\n",
              "      --fill-color: #1967D2;\n",
              "      --hover-bg-color: #E2EBFA;\n",
              "      --hover-fill-color: #174EA6;\n",
              "      --disabled-fill-color: #AAA;\n",
              "      --disabled-bg-color: #DDD;\n",
              "  }\n",
              "\n",
              "  [theme=dark] .colab-df-quickchart {\n",
              "      --bg-color: #3B4455;\n",
              "      --fill-color: #D2E3FC;\n",
              "      --hover-bg-color: #434B5C;\n",
              "      --hover-fill-color: #FFFFFF;\n",
              "      --disabled-bg-color: #3B4455;\n",
              "      --disabled-fill-color: #666;\n",
              "  }\n",
              "\n",
              "  .colab-df-quickchart {\n",
              "    background-color: var(--bg-color);\n",
              "    border: none;\n",
              "    border-radius: 50%;\n",
              "    cursor: pointer;\n",
              "    display: none;\n",
              "    fill: var(--fill-color);\n",
              "    height: 32px;\n",
              "    padding: 0;\n",
              "    width: 32px;\n",
              "  }\n",
              "\n",
              "  .colab-df-quickchart:hover {\n",
              "    background-color: var(--hover-bg-color);\n",
              "    box-shadow: 0 1px 2px rgba(60, 64, 67, 0.3), 0 1px 3px 1px rgba(60, 64, 67, 0.15);\n",
              "    fill: var(--button-hover-fill-color);\n",
              "  }\n",
              "\n",
              "  .colab-df-quickchart-complete:disabled,\n",
              "  .colab-df-quickchart-complete:disabled:hover {\n",
              "    background-color: var(--disabled-bg-color);\n",
              "    fill: var(--disabled-fill-color);\n",
              "    box-shadow: none;\n",
              "  }\n",
              "\n",
              "  .colab-df-spinner {\n",
              "    border: 2px solid var(--fill-color);\n",
              "    border-color: transparent;\n",
              "    border-bottom-color: var(--fill-color);\n",
              "    animation:\n",
              "      spin 1s steps(1) infinite;\n",
              "  }\n",
              "\n",
              "  @keyframes spin {\n",
              "    0% {\n",
              "      border-color: transparent;\n",
              "      border-bottom-color: var(--fill-color);\n",
              "      border-left-color: var(--fill-color);\n",
              "    }\n",
              "    20% {\n",
              "      border-color: transparent;\n",
              "      border-left-color: var(--fill-color);\n",
              "      border-top-color: var(--fill-color);\n",
              "    }\n",
              "    30% {\n",
              "      border-color: transparent;\n",
              "      border-left-color: var(--fill-color);\n",
              "      border-top-color: var(--fill-color);\n",
              "      border-right-color: var(--fill-color);\n",
              "    }\n",
              "    40% {\n",
              "      border-color: transparent;\n",
              "      border-right-color: var(--fill-color);\n",
              "      border-top-color: var(--fill-color);\n",
              "    }\n",
              "    60% {\n",
              "      border-color: transparent;\n",
              "      border-right-color: var(--fill-color);\n",
              "    }\n",
              "    80% {\n",
              "      border-color: transparent;\n",
              "      border-right-color: var(--fill-color);\n",
              "      border-bottom-color: var(--fill-color);\n",
              "    }\n",
              "    90% {\n",
              "      border-color: transparent;\n",
              "      border-bottom-color: var(--fill-color);\n",
              "    }\n",
              "  }\n",
              "</style>\n",
              "\n",
              "  <script>\n",
              "    async function quickchart(key) {\n",
              "      const quickchartButtonEl =\n",
              "        document.querySelector('#' + key + ' button');\n",
              "      quickchartButtonEl.disabled = true;  // To prevent multiple clicks.\n",
              "      quickchartButtonEl.classList.add('colab-df-spinner');\n",
              "      try {\n",
              "        const charts = await google.colab.kernel.invokeFunction(\n",
              "            'suggestCharts', [key], {});\n",
              "      } catch (error) {\n",
              "        console.error('Error during call to suggestCharts:', error);\n",
              "      }\n",
              "      quickchartButtonEl.classList.remove('colab-df-spinner');\n",
              "      quickchartButtonEl.classList.add('colab-df-quickchart-complete');\n",
              "    }\n",
              "    (() => {\n",
              "      let quickchartButtonEl =\n",
              "        document.querySelector('#df-bec3a5e0-35d6-42f1-8472-fe04d8009e23 button');\n",
              "      quickchartButtonEl.style.display =\n",
              "        google.colab.kernel.accessAllowed ? 'block' : 'none';\n",
              "    })();\n",
              "  </script>\n",
              "</div>\n",
              "    </div>\n",
              "  </div>\n"
            ]
          },
          "metadata": {},
          "execution_count": 55
        }
      ],
      "source": [
        "df_year_type"
      ]
    },
    {
      "cell_type": "code",
      "source": [],
      "metadata": {
        "id": "8YUc3s1HFEq9"
      },
      "execution_count": 55,
      "outputs": []
    }
  ],
  "metadata": {
    "colab": {
      "provenance": []
    },
    "kernelspec": {
      "display_name": "Python 3",
      "name": "python3"
    },
    "language_info": {
      "name": "python"
    }
  },
  "nbformat": 4,
  "nbformat_minor": 0
}